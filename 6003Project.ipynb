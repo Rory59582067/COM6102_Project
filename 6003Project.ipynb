{
  "nbformat": 4,
  "nbformat_minor": 0,
  "metadata": {
    "colab": {
      "provenance": [],
      "collapsed_sections": [
        "nnMZZY5CTR6R",
        "Fi7tfgB7aFca",
        "d1ILErz6dbBv",
        "cB6Mhq39fWKJ",
        "UrP6_7jBsjOI"
      ],
      "include_colab_link": true
    },
    "kernelspec": {
      "name": "python3",
      "display_name": "Python 3"
    },
    "language_info": {
      "name": "python"
    },
    "widgets": {
      "application/vnd.jupyter.widget-state+json": {
        "20586d57786d48b78792a0cf2961a8b1": {
          "model_module": "@jupyter-widgets/controls",
          "model_name": "HBoxModel",
          "model_module_version": "1.5.0",
          "state": {
            "_dom_classes": [],
            "_model_module": "@jupyter-widgets/controls",
            "_model_module_version": "1.5.0",
            "_model_name": "HBoxModel",
            "_view_count": null,
            "_view_module": "@jupyter-widgets/controls",
            "_view_module_version": "1.5.0",
            "_view_name": "HBoxView",
            "box_style": "",
            "children": [
              "IPY_MODEL_9278e3a4b9864d33b0c840d7c8f8716e",
              "IPY_MODEL_a36451b2defb4c5ab2808a6022dab666",
              "IPY_MODEL_6099466ff76646a393d9d61a6c40e51a"
            ],
            "layout": "IPY_MODEL_23251bbac05d4b20829ccaf9ba76a851"
          }
        },
        "9278e3a4b9864d33b0c840d7c8f8716e": {
          "model_module": "@jupyter-widgets/controls",
          "model_name": "HTMLModel",
          "model_module_version": "1.5.0",
          "state": {
            "_dom_classes": [],
            "_model_module": "@jupyter-widgets/controls",
            "_model_module_version": "1.5.0",
            "_model_name": "HTMLModel",
            "_view_count": null,
            "_view_module": "@jupyter-widgets/controls",
            "_view_module_version": "1.5.0",
            "_view_name": "HTMLView",
            "description": "",
            "description_tooltip": null,
            "layout": "IPY_MODEL_91365783e7354c4d914c52e0b15fb7a7",
            "placeholder": "​",
            "style": "IPY_MODEL_03a74289e2b446ffaf38a8ae17137542",
            "value": "Best trial: 18. Best value: 0.00450564: 100%"
          }
        },
        "a36451b2defb4c5ab2808a6022dab666": {
          "model_module": "@jupyter-widgets/controls",
          "model_name": "FloatProgressModel",
          "model_module_version": "1.5.0",
          "state": {
            "_dom_classes": [],
            "_model_module": "@jupyter-widgets/controls",
            "_model_module_version": "1.5.0",
            "_model_name": "FloatProgressModel",
            "_view_count": null,
            "_view_module": "@jupyter-widgets/controls",
            "_view_module_version": "1.5.0",
            "_view_name": "ProgressView",
            "bar_style": "success",
            "description": "",
            "description_tooltip": null,
            "layout": "IPY_MODEL_47128f9059c549ffa9b0cde667a0fd28",
            "max": 20,
            "min": 0,
            "orientation": "horizontal",
            "style": "IPY_MODEL_b800b126cabb45a6afe6c72f27cf5552",
            "value": 20
          }
        },
        "6099466ff76646a393d9d61a6c40e51a": {
          "model_module": "@jupyter-widgets/controls",
          "model_name": "HTMLModel",
          "model_module_version": "1.5.0",
          "state": {
            "_dom_classes": [],
            "_model_module": "@jupyter-widgets/controls",
            "_model_module_version": "1.5.0",
            "_model_name": "HTMLModel",
            "_view_count": null,
            "_view_module": "@jupyter-widgets/controls",
            "_view_module_version": "1.5.0",
            "_view_name": "HTMLView",
            "description": "",
            "description_tooltip": null,
            "layout": "IPY_MODEL_bc75d8d5489741f39be3d26699bfdfe3",
            "placeholder": "​",
            "style": "IPY_MODEL_9f184aed935d4f619e520e6043ebd9df",
            "value": " 20/20 [08:09&lt;00:00, 22.66s/it]"
          }
        },
        "23251bbac05d4b20829ccaf9ba76a851": {
          "model_module": "@jupyter-widgets/base",
          "model_name": "LayoutModel",
          "model_module_version": "1.2.0",
          "state": {
            "_model_module": "@jupyter-widgets/base",
            "_model_module_version": "1.2.0",
            "_model_name": "LayoutModel",
            "_view_count": null,
            "_view_module": "@jupyter-widgets/base",
            "_view_module_version": "1.2.0",
            "_view_name": "LayoutView",
            "align_content": null,
            "align_items": null,
            "align_self": null,
            "border": null,
            "bottom": null,
            "display": null,
            "flex": null,
            "flex_flow": null,
            "grid_area": null,
            "grid_auto_columns": null,
            "grid_auto_flow": null,
            "grid_auto_rows": null,
            "grid_column": null,
            "grid_gap": null,
            "grid_row": null,
            "grid_template_areas": null,
            "grid_template_columns": null,
            "grid_template_rows": null,
            "height": null,
            "justify_content": null,
            "justify_items": null,
            "left": null,
            "margin": null,
            "max_height": null,
            "max_width": null,
            "min_height": null,
            "min_width": null,
            "object_fit": null,
            "object_position": null,
            "order": null,
            "overflow": null,
            "overflow_x": null,
            "overflow_y": null,
            "padding": null,
            "right": null,
            "top": null,
            "visibility": null,
            "width": null
          }
        },
        "91365783e7354c4d914c52e0b15fb7a7": {
          "model_module": "@jupyter-widgets/base",
          "model_name": "LayoutModel",
          "model_module_version": "1.2.0",
          "state": {
            "_model_module": "@jupyter-widgets/base",
            "_model_module_version": "1.2.0",
            "_model_name": "LayoutModel",
            "_view_count": null,
            "_view_module": "@jupyter-widgets/base",
            "_view_module_version": "1.2.0",
            "_view_name": "LayoutView",
            "align_content": null,
            "align_items": null,
            "align_self": null,
            "border": null,
            "bottom": null,
            "display": null,
            "flex": null,
            "flex_flow": null,
            "grid_area": null,
            "grid_auto_columns": null,
            "grid_auto_flow": null,
            "grid_auto_rows": null,
            "grid_column": null,
            "grid_gap": null,
            "grid_row": null,
            "grid_template_areas": null,
            "grid_template_columns": null,
            "grid_template_rows": null,
            "height": null,
            "justify_content": null,
            "justify_items": null,
            "left": null,
            "margin": null,
            "max_height": null,
            "max_width": null,
            "min_height": null,
            "min_width": null,
            "object_fit": null,
            "object_position": null,
            "order": null,
            "overflow": null,
            "overflow_x": null,
            "overflow_y": null,
            "padding": null,
            "right": null,
            "top": null,
            "visibility": null,
            "width": null
          }
        },
        "03a74289e2b446ffaf38a8ae17137542": {
          "model_module": "@jupyter-widgets/controls",
          "model_name": "DescriptionStyleModel",
          "model_module_version": "1.5.0",
          "state": {
            "_model_module": "@jupyter-widgets/controls",
            "_model_module_version": "1.5.0",
            "_model_name": "DescriptionStyleModel",
            "_view_count": null,
            "_view_module": "@jupyter-widgets/base",
            "_view_module_version": "1.2.0",
            "_view_name": "StyleView",
            "description_width": ""
          }
        },
        "47128f9059c549ffa9b0cde667a0fd28": {
          "model_module": "@jupyter-widgets/base",
          "model_name": "LayoutModel",
          "model_module_version": "1.2.0",
          "state": {
            "_model_module": "@jupyter-widgets/base",
            "_model_module_version": "1.2.0",
            "_model_name": "LayoutModel",
            "_view_count": null,
            "_view_module": "@jupyter-widgets/base",
            "_view_module_version": "1.2.0",
            "_view_name": "LayoutView",
            "align_content": null,
            "align_items": null,
            "align_self": null,
            "border": null,
            "bottom": null,
            "display": null,
            "flex": null,
            "flex_flow": null,
            "grid_area": null,
            "grid_auto_columns": null,
            "grid_auto_flow": null,
            "grid_auto_rows": null,
            "grid_column": null,
            "grid_gap": null,
            "grid_row": null,
            "grid_template_areas": null,
            "grid_template_columns": null,
            "grid_template_rows": null,
            "height": null,
            "justify_content": null,
            "justify_items": null,
            "left": null,
            "margin": null,
            "max_height": null,
            "max_width": null,
            "min_height": null,
            "min_width": null,
            "object_fit": null,
            "object_position": null,
            "order": null,
            "overflow": null,
            "overflow_x": null,
            "overflow_y": null,
            "padding": null,
            "right": null,
            "top": null,
            "visibility": null,
            "width": null
          }
        },
        "b800b126cabb45a6afe6c72f27cf5552": {
          "model_module": "@jupyter-widgets/controls",
          "model_name": "ProgressStyleModel",
          "model_module_version": "1.5.0",
          "state": {
            "_model_module": "@jupyter-widgets/controls",
            "_model_module_version": "1.5.0",
            "_model_name": "ProgressStyleModel",
            "_view_count": null,
            "_view_module": "@jupyter-widgets/base",
            "_view_module_version": "1.2.0",
            "_view_name": "StyleView",
            "bar_color": null,
            "description_width": ""
          }
        },
        "bc75d8d5489741f39be3d26699bfdfe3": {
          "model_module": "@jupyter-widgets/base",
          "model_name": "LayoutModel",
          "model_module_version": "1.2.0",
          "state": {
            "_model_module": "@jupyter-widgets/base",
            "_model_module_version": "1.2.0",
            "_model_name": "LayoutModel",
            "_view_count": null,
            "_view_module": "@jupyter-widgets/base",
            "_view_module_version": "1.2.0",
            "_view_name": "LayoutView",
            "align_content": null,
            "align_items": null,
            "align_self": null,
            "border": null,
            "bottom": null,
            "display": null,
            "flex": null,
            "flex_flow": null,
            "grid_area": null,
            "grid_auto_columns": null,
            "grid_auto_flow": null,
            "grid_auto_rows": null,
            "grid_column": null,
            "grid_gap": null,
            "grid_row": null,
            "grid_template_areas": null,
            "grid_template_columns": null,
            "grid_template_rows": null,
            "height": null,
            "justify_content": null,
            "justify_items": null,
            "left": null,
            "margin": null,
            "max_height": null,
            "max_width": null,
            "min_height": null,
            "min_width": null,
            "object_fit": null,
            "object_position": null,
            "order": null,
            "overflow": null,
            "overflow_x": null,
            "overflow_y": null,
            "padding": null,
            "right": null,
            "top": null,
            "visibility": null,
            "width": null
          }
        },
        "9f184aed935d4f619e520e6043ebd9df": {
          "model_module": "@jupyter-widgets/controls",
          "model_name": "DescriptionStyleModel",
          "model_module_version": "1.5.0",
          "state": {
            "_model_module": "@jupyter-widgets/controls",
            "_model_module_version": "1.5.0",
            "_model_name": "DescriptionStyleModel",
            "_view_count": null,
            "_view_module": "@jupyter-widgets/base",
            "_view_module_version": "1.2.0",
            "_view_name": "StyleView",
            "description_width": ""
          }
        }
      }
    }
  },
  "cells": [
    {
      "cell_type": "markdown",
      "metadata": {
        "id": "view-in-github",
        "colab_type": "text"
      },
      "source": [
        "<a href=\"https://colab.research.google.com/github/Rory59582067/COM6102_Project/blob/main/6003Project.ipynb\" target=\"_parent\"><img src=\"https://colab.research.google.com/assets/colab-badge.svg\" alt=\"Open In Colab\"/></a>"
      ]
    },
    {
      "cell_type": "markdown",
      "source": [
        "# Background & Objective\n"
      ],
      "metadata": {
        "id": "Et31-V-oRPkI"
      }
    },
    {
      "cell_type": "markdown",
      "source": [
        "This data set is populated by capturing user ratings from Google reviews. Reviews on attractions from 24 categories across Europe are considered. Google user rating ranges from 1 to 5 and average user rating per category is calculated.\n",
        "\n",
        "Data link: <https://archive.ics.uci.edu/dataset/485/tarvel+review+ratings>"
      ],
      "metadata": {
        "id": "9wDKYN4JdDxA"
      }
    },
    {
      "cell_type": "markdown",
      "source": [
        "**Problem outline:** create a complete neural network model to predict overall ratings based on the various place ratings, include feature engineering and hyperparameter tuning."
      ],
      "metadata": {
        "id": "NW-VJm1DS0tv"
      }
    },
    {
      "cell_type": "markdown",
      "source": [
        "Target column: Overall rating"
      ],
      "metadata": {
        "id": "cGVRaa2_S_7D"
      }
    },
    {
      "cell_type": "markdown",
      "source": [
        "# Data collection\n"
      ],
      "metadata": {
        "id": "nnMZZY5CTR6R"
      }
    },
    {
      "cell_type": "code",
      "source": [
        "!pip install ucimlrepo"
      ],
      "metadata": {
        "colab": {
          "base_uri": "https://localhost:8080/"
        },
        "id": "Q2pgodYrTTxz",
        "outputId": "0e7862ea-f979-4c10-8dae-b365b05183c2"
      },
      "execution_count": null,
      "outputs": [
        {
          "output_type": "stream",
          "name": "stdout",
          "text": [
            "Collecting ucimlrepo\n",
            "  Downloading ucimlrepo-0.0.7-py3-none-any.whl.metadata (5.5 kB)\n",
            "Requirement already satisfied: pandas>=1.0.0 in /usr/local/lib/python3.11/dist-packages (from ucimlrepo) (2.2.2)\n",
            "Requirement already satisfied: certifi>=2020.12.5 in /usr/local/lib/python3.11/dist-packages (from ucimlrepo) (2025.1.31)\n",
            "Requirement already satisfied: numpy>=1.23.2 in /usr/local/lib/python3.11/dist-packages (from pandas>=1.0.0->ucimlrepo) (2.0.2)\n",
            "Requirement already satisfied: python-dateutil>=2.8.2 in /usr/local/lib/python3.11/dist-packages (from pandas>=1.0.0->ucimlrepo) (2.8.2)\n",
            "Requirement already satisfied: pytz>=2020.1 in /usr/local/lib/python3.11/dist-packages (from pandas>=1.0.0->ucimlrepo) (2025.1)\n",
            "Requirement already satisfied: tzdata>=2022.7 in /usr/local/lib/python3.11/dist-packages (from pandas>=1.0.0->ucimlrepo) (2025.1)\n",
            "Requirement already satisfied: six>=1.5 in /usr/local/lib/python3.11/dist-packages (from python-dateutil>=2.8.2->pandas>=1.0.0->ucimlrepo) (1.17.0)\n",
            "Downloading ucimlrepo-0.0.7-py3-none-any.whl (8.0 kB)\n",
            "Installing collected packages: ucimlrepo\n",
            "Successfully installed ucimlrepo-0.0.7\n"
          ]
        }
      ]
    },
    {
      "cell_type": "code",
      "source": [
        "from ucimlrepo import fetch_ucirepo\n",
        "\n",
        "# fetch dataset\n",
        "travel_review_ratings = fetch_ucirepo(id=485)"
      ],
      "metadata": {
        "id": "CB_NUX_7TpV8"
      },
      "execution_count": null,
      "outputs": []
    },
    {
      "cell_type": "code",
      "source": [
        "# data (as pandas dataframes)\n",
        "df = travel_review_ratings.data.features"
      ],
      "metadata": {
        "id": "OWrG1L1LUJHI"
      },
      "execution_count": null,
      "outputs": []
    },
    {
      "cell_type": "code",
      "source": [
        "df.head()"
      ],
      "metadata": {
        "colab": {
          "base_uri": "https://localhost:8080/",
          "height": 273
        },
        "id": "YM_vDCJjV2ff",
        "outputId": "eebe3b0f-4bc8-4b29-8471-6a955da4abb6"
      },
      "execution_count": null,
      "outputs": [
        {
          "output_type": "execute_result",
          "data": {
            "text/plain": [
              "   churches  resorts  beaches  parks  theatres  museums  malls  zoos  \\\n",
              "0       0.0      0.0     3.63   3.65       5.0     2.92    5.0  2.35   \n",
              "1       0.0      0.0     3.63   3.65       5.0     2.92    5.0  2.64   \n",
              "2       0.0      0.0     3.63   3.63       5.0     2.92    5.0  2.64   \n",
              "3       0.0      0.5     3.63   3.63       5.0     2.92    5.0  2.35   \n",
              "4       0.0      0.0     3.63   3.63       5.0     2.92    5.0  2.64   \n",
              "\n",
              "   restaurants  pubs/bars  ...  dance clubs  swimming pools  gyms  bakeries  \\\n",
              "0         2.33       2.64  ...         0.59             0.5   0.0       0.5   \n",
              "1         2.33       2.65  ...         0.59             0.5   0.0       0.5   \n",
              "2         2.33       2.64  ...         0.59             0.5   0.0       0.5   \n",
              "3         2.33       2.64  ...         0.59             0.5   0.0       0.5   \n",
              "4         2.33       2.64  ...         0.59             0.5   0.0       0.5   \n",
              "\n",
              "   beauty & spas  cafes  view points  monuments  gardens  overall_rating  \n",
              "0            0.0    0.0          0.0        0.0      0.0        1.569167  \n",
              "1            0.0    0.0          0.0        0.0      0.0        1.581667  \n",
              "2            0.0    0.0          0.0        0.0      0.0        1.580417  \n",
              "3            0.0    0.0          0.0        0.0      0.0        1.590417  \n",
              "4            0.0    0.0          0.0        0.0      0.0        1.580417  \n",
              "\n",
              "[5 rows x 25 columns]"
            ],
            "text/html": [
              "\n",
              "  <div id=\"df-abd888e1-a075-47ab-bdfd-9519e16d0831\" class=\"colab-df-container\">\n",
              "    <div>\n",
              "<style scoped>\n",
              "    .dataframe tbody tr th:only-of-type {\n",
              "        vertical-align: middle;\n",
              "    }\n",
              "\n",
              "    .dataframe tbody tr th {\n",
              "        vertical-align: top;\n",
              "    }\n",
              "\n",
              "    .dataframe thead th {\n",
              "        text-align: right;\n",
              "    }\n",
              "</style>\n",
              "<table border=\"1\" class=\"dataframe\">\n",
              "  <thead>\n",
              "    <tr style=\"text-align: right;\">\n",
              "      <th></th>\n",
              "      <th>churches</th>\n",
              "      <th>resorts</th>\n",
              "      <th>beaches</th>\n",
              "      <th>parks</th>\n",
              "      <th>theatres</th>\n",
              "      <th>museums</th>\n",
              "      <th>malls</th>\n",
              "      <th>zoos</th>\n",
              "      <th>restaurants</th>\n",
              "      <th>pubs/bars</th>\n",
              "      <th>...</th>\n",
              "      <th>dance clubs</th>\n",
              "      <th>swimming pools</th>\n",
              "      <th>gyms</th>\n",
              "      <th>bakeries</th>\n",
              "      <th>beauty &amp; spas</th>\n",
              "      <th>cafes</th>\n",
              "      <th>view points</th>\n",
              "      <th>monuments</th>\n",
              "      <th>gardens</th>\n",
              "      <th>overall_rating</th>\n",
              "    </tr>\n",
              "  </thead>\n",
              "  <tbody>\n",
              "    <tr>\n",
              "      <th>0</th>\n",
              "      <td>0.0</td>\n",
              "      <td>0.0</td>\n",
              "      <td>3.63</td>\n",
              "      <td>3.65</td>\n",
              "      <td>5.0</td>\n",
              "      <td>2.92</td>\n",
              "      <td>5.0</td>\n",
              "      <td>2.35</td>\n",
              "      <td>2.33</td>\n",
              "      <td>2.64</td>\n",
              "      <td>...</td>\n",
              "      <td>0.59</td>\n",
              "      <td>0.5</td>\n",
              "      <td>0.0</td>\n",
              "      <td>0.5</td>\n",
              "      <td>0.0</td>\n",
              "      <td>0.0</td>\n",
              "      <td>0.0</td>\n",
              "      <td>0.0</td>\n",
              "      <td>0.0</td>\n",
              "      <td>1.569167</td>\n",
              "    </tr>\n",
              "    <tr>\n",
              "      <th>1</th>\n",
              "      <td>0.0</td>\n",
              "      <td>0.0</td>\n",
              "      <td>3.63</td>\n",
              "      <td>3.65</td>\n",
              "      <td>5.0</td>\n",
              "      <td>2.92</td>\n",
              "      <td>5.0</td>\n",
              "      <td>2.64</td>\n",
              "      <td>2.33</td>\n",
              "      <td>2.65</td>\n",
              "      <td>...</td>\n",
              "      <td>0.59</td>\n",
              "      <td>0.5</td>\n",
              "      <td>0.0</td>\n",
              "      <td>0.5</td>\n",
              "      <td>0.0</td>\n",
              "      <td>0.0</td>\n",
              "      <td>0.0</td>\n",
              "      <td>0.0</td>\n",
              "      <td>0.0</td>\n",
              "      <td>1.581667</td>\n",
              "    </tr>\n",
              "    <tr>\n",
              "      <th>2</th>\n",
              "      <td>0.0</td>\n",
              "      <td>0.0</td>\n",
              "      <td>3.63</td>\n",
              "      <td>3.63</td>\n",
              "      <td>5.0</td>\n",
              "      <td>2.92</td>\n",
              "      <td>5.0</td>\n",
              "      <td>2.64</td>\n",
              "      <td>2.33</td>\n",
              "      <td>2.64</td>\n",
              "      <td>...</td>\n",
              "      <td>0.59</td>\n",
              "      <td>0.5</td>\n",
              "      <td>0.0</td>\n",
              "      <td>0.5</td>\n",
              "      <td>0.0</td>\n",
              "      <td>0.0</td>\n",
              "      <td>0.0</td>\n",
              "      <td>0.0</td>\n",
              "      <td>0.0</td>\n",
              "      <td>1.580417</td>\n",
              "    </tr>\n",
              "    <tr>\n",
              "      <th>3</th>\n",
              "      <td>0.0</td>\n",
              "      <td>0.5</td>\n",
              "      <td>3.63</td>\n",
              "      <td>3.63</td>\n",
              "      <td>5.0</td>\n",
              "      <td>2.92</td>\n",
              "      <td>5.0</td>\n",
              "      <td>2.35</td>\n",
              "      <td>2.33</td>\n",
              "      <td>2.64</td>\n",
              "      <td>...</td>\n",
              "      <td>0.59</td>\n",
              "      <td>0.5</td>\n",
              "      <td>0.0</td>\n",
              "      <td>0.5</td>\n",
              "      <td>0.0</td>\n",
              "      <td>0.0</td>\n",
              "      <td>0.0</td>\n",
              "      <td>0.0</td>\n",
              "      <td>0.0</td>\n",
              "      <td>1.590417</td>\n",
              "    </tr>\n",
              "    <tr>\n",
              "      <th>4</th>\n",
              "      <td>0.0</td>\n",
              "      <td>0.0</td>\n",
              "      <td>3.63</td>\n",
              "      <td>3.63</td>\n",
              "      <td>5.0</td>\n",
              "      <td>2.92</td>\n",
              "      <td>5.0</td>\n",
              "      <td>2.64</td>\n",
              "      <td>2.33</td>\n",
              "      <td>2.64</td>\n",
              "      <td>...</td>\n",
              "      <td>0.59</td>\n",
              "      <td>0.5</td>\n",
              "      <td>0.0</td>\n",
              "      <td>0.5</td>\n",
              "      <td>0.0</td>\n",
              "      <td>0.0</td>\n",
              "      <td>0.0</td>\n",
              "      <td>0.0</td>\n",
              "      <td>0.0</td>\n",
              "      <td>1.580417</td>\n",
              "    </tr>\n",
              "  </tbody>\n",
              "</table>\n",
              "<p>5 rows × 25 columns</p>\n",
              "</div>\n",
              "    <div class=\"colab-df-buttons\">\n",
              "\n",
              "  <div class=\"colab-df-container\">\n",
              "    <button class=\"colab-df-convert\" onclick=\"convertToInteractive('df-abd888e1-a075-47ab-bdfd-9519e16d0831')\"\n",
              "            title=\"Convert this dataframe to an interactive table.\"\n",
              "            style=\"display:none;\">\n",
              "\n",
              "  <svg xmlns=\"http://www.w3.org/2000/svg\" height=\"24px\" viewBox=\"0 -960 960 960\">\n",
              "    <path d=\"M120-120v-720h720v720H120Zm60-500h600v-160H180v160Zm220 220h160v-160H400v160Zm0 220h160v-160H400v160ZM180-400h160v-160H180v160Zm440 0h160v-160H620v160ZM180-180h160v-160H180v160Zm440 0h160v-160H620v160Z\"/>\n",
              "  </svg>\n",
              "    </button>\n",
              "\n",
              "  <style>\n",
              "    .colab-df-container {\n",
              "      display:flex;\n",
              "      gap: 12px;\n",
              "    }\n",
              "\n",
              "    .colab-df-convert {\n",
              "      background-color: #E8F0FE;\n",
              "      border: none;\n",
              "      border-radius: 50%;\n",
              "      cursor: pointer;\n",
              "      display: none;\n",
              "      fill: #1967D2;\n",
              "      height: 32px;\n",
              "      padding: 0 0 0 0;\n",
              "      width: 32px;\n",
              "    }\n",
              "\n",
              "    .colab-df-convert:hover {\n",
              "      background-color: #E2EBFA;\n",
              "      box-shadow: 0px 1px 2px rgba(60, 64, 67, 0.3), 0px 1px 3px 1px rgba(60, 64, 67, 0.15);\n",
              "      fill: #174EA6;\n",
              "    }\n",
              "\n",
              "    .colab-df-buttons div {\n",
              "      margin-bottom: 4px;\n",
              "    }\n",
              "\n",
              "    [theme=dark] .colab-df-convert {\n",
              "      background-color: #3B4455;\n",
              "      fill: #D2E3FC;\n",
              "    }\n",
              "\n",
              "    [theme=dark] .colab-df-convert:hover {\n",
              "      background-color: #434B5C;\n",
              "      box-shadow: 0px 1px 3px 1px rgba(0, 0, 0, 0.15);\n",
              "      filter: drop-shadow(0px 1px 2px rgba(0, 0, 0, 0.3));\n",
              "      fill: #FFFFFF;\n",
              "    }\n",
              "  </style>\n",
              "\n",
              "    <script>\n",
              "      const buttonEl =\n",
              "        document.querySelector('#df-abd888e1-a075-47ab-bdfd-9519e16d0831 button.colab-df-convert');\n",
              "      buttonEl.style.display =\n",
              "        google.colab.kernel.accessAllowed ? 'block' : 'none';\n",
              "\n",
              "      async function convertToInteractive(key) {\n",
              "        const element = document.querySelector('#df-abd888e1-a075-47ab-bdfd-9519e16d0831');\n",
              "        const dataTable =\n",
              "          await google.colab.kernel.invokeFunction('convertToInteractive',\n",
              "                                                    [key], {});\n",
              "        if (!dataTable) return;\n",
              "\n",
              "        const docLinkHtml = 'Like what you see? Visit the ' +\n",
              "          '<a target=\"_blank\" href=https://colab.research.google.com/notebooks/data_table.ipynb>data table notebook</a>'\n",
              "          + ' to learn more about interactive tables.';\n",
              "        element.innerHTML = '';\n",
              "        dataTable['output_type'] = 'display_data';\n",
              "        await google.colab.output.renderOutput(dataTable, element);\n",
              "        const docLink = document.createElement('div');\n",
              "        docLink.innerHTML = docLinkHtml;\n",
              "        element.appendChild(docLink);\n",
              "      }\n",
              "    </script>\n",
              "  </div>\n",
              "\n",
              "\n",
              "<div id=\"df-78383a3c-85b6-4475-a6b9-621d4143e1e6\">\n",
              "  <button class=\"colab-df-quickchart\" onclick=\"quickchart('df-78383a3c-85b6-4475-a6b9-621d4143e1e6')\"\n",
              "            title=\"Suggest charts\"\n",
              "            style=\"display:none;\">\n",
              "\n",
              "<svg xmlns=\"http://www.w3.org/2000/svg\" height=\"24px\"viewBox=\"0 0 24 24\"\n",
              "     width=\"24px\">\n",
              "    <g>\n",
              "        <path d=\"M19 3H5c-1.1 0-2 .9-2 2v14c0 1.1.9 2 2 2h14c1.1 0 2-.9 2-2V5c0-1.1-.9-2-2-2zM9 17H7v-7h2v7zm4 0h-2V7h2v10zm4 0h-2v-4h2v4z\"/>\n",
              "    </g>\n",
              "</svg>\n",
              "  </button>\n",
              "\n",
              "<style>\n",
              "  .colab-df-quickchart {\n",
              "      --bg-color: #E8F0FE;\n",
              "      --fill-color: #1967D2;\n",
              "      --hover-bg-color: #E2EBFA;\n",
              "      --hover-fill-color: #174EA6;\n",
              "      --disabled-fill-color: #AAA;\n",
              "      --disabled-bg-color: #DDD;\n",
              "  }\n",
              "\n",
              "  [theme=dark] .colab-df-quickchart {\n",
              "      --bg-color: #3B4455;\n",
              "      --fill-color: #D2E3FC;\n",
              "      --hover-bg-color: #434B5C;\n",
              "      --hover-fill-color: #FFFFFF;\n",
              "      --disabled-bg-color: #3B4455;\n",
              "      --disabled-fill-color: #666;\n",
              "  }\n",
              "\n",
              "  .colab-df-quickchart {\n",
              "    background-color: var(--bg-color);\n",
              "    border: none;\n",
              "    border-radius: 50%;\n",
              "    cursor: pointer;\n",
              "    display: none;\n",
              "    fill: var(--fill-color);\n",
              "    height: 32px;\n",
              "    padding: 0;\n",
              "    width: 32px;\n",
              "  }\n",
              "\n",
              "  .colab-df-quickchart:hover {\n",
              "    background-color: var(--hover-bg-color);\n",
              "    box-shadow: 0 1px 2px rgba(60, 64, 67, 0.3), 0 1px 3px 1px rgba(60, 64, 67, 0.15);\n",
              "    fill: var(--button-hover-fill-color);\n",
              "  }\n",
              "\n",
              "  .colab-df-quickchart-complete:disabled,\n",
              "  .colab-df-quickchart-complete:disabled:hover {\n",
              "    background-color: var(--disabled-bg-color);\n",
              "    fill: var(--disabled-fill-color);\n",
              "    box-shadow: none;\n",
              "  }\n",
              "\n",
              "  .colab-df-spinner {\n",
              "    border: 2px solid var(--fill-color);\n",
              "    border-color: transparent;\n",
              "    border-bottom-color: var(--fill-color);\n",
              "    animation:\n",
              "      spin 1s steps(1) infinite;\n",
              "  }\n",
              "\n",
              "  @keyframes spin {\n",
              "    0% {\n",
              "      border-color: transparent;\n",
              "      border-bottom-color: var(--fill-color);\n",
              "      border-left-color: var(--fill-color);\n",
              "    }\n",
              "    20% {\n",
              "      border-color: transparent;\n",
              "      border-left-color: var(--fill-color);\n",
              "      border-top-color: var(--fill-color);\n",
              "    }\n",
              "    30% {\n",
              "      border-color: transparent;\n",
              "      border-left-color: var(--fill-color);\n",
              "      border-top-color: var(--fill-color);\n",
              "      border-right-color: var(--fill-color);\n",
              "    }\n",
              "    40% {\n",
              "      border-color: transparent;\n",
              "      border-right-color: var(--fill-color);\n",
              "      border-top-color: var(--fill-color);\n",
              "    }\n",
              "    60% {\n",
              "      border-color: transparent;\n",
              "      border-right-color: var(--fill-color);\n",
              "    }\n",
              "    80% {\n",
              "      border-color: transparent;\n",
              "      border-right-color: var(--fill-color);\n",
              "      border-bottom-color: var(--fill-color);\n",
              "    }\n",
              "    90% {\n",
              "      border-color: transparent;\n",
              "      border-bottom-color: var(--fill-color);\n",
              "    }\n",
              "  }\n",
              "</style>\n",
              "\n",
              "  <script>\n",
              "    async function quickchart(key) {\n",
              "      const quickchartButtonEl =\n",
              "        document.querySelector('#' + key + ' button');\n",
              "      quickchartButtonEl.disabled = true;  // To prevent multiple clicks.\n",
              "      quickchartButtonEl.classList.add('colab-df-spinner');\n",
              "      try {\n",
              "        const charts = await google.colab.kernel.invokeFunction(\n",
              "            'suggestCharts', [key], {});\n",
              "      } catch (error) {\n",
              "        console.error('Error during call to suggestCharts:', error);\n",
              "      }\n",
              "      quickchartButtonEl.classList.remove('colab-df-spinner');\n",
              "      quickchartButtonEl.classList.add('colab-df-quickchart-complete');\n",
              "    }\n",
              "    (() => {\n",
              "      let quickchartButtonEl =\n",
              "        document.querySelector('#df-78383a3c-85b6-4475-a6b9-621d4143e1e6 button');\n",
              "      quickchartButtonEl.style.display =\n",
              "        google.colab.kernel.accessAllowed ? 'block' : 'none';\n",
              "    })();\n",
              "  </script>\n",
              "</div>\n",
              "    </div>\n",
              "  </div>\n"
            ],
            "application/vnd.google.colaboratory.intrinsic+json": {
              "type": "dataframe",
              "variable_name": "df"
            }
          },
          "metadata": {},
          "execution_count": 50
        }
      ]
    },
    {
      "cell_type": "markdown",
      "source": [
        "# Data preprocessing and evaluation"
      ],
      "metadata": {
        "id": "Fi7tfgB7aFca"
      }
    },
    {
      "cell_type": "code",
      "source": [
        "import pandas as pd"
      ],
      "metadata": {
        "id": "73aXjOjncYzh"
      },
      "execution_count": null,
      "outputs": []
    },
    {
      "cell_type": "code",
      "source": [
        "# Convert object to numeric\n",
        "df = df.apply(pd.to_numeric, errors='coerce')"
      ],
      "metadata": {
        "id": "UhXaEi0pczT0"
      },
      "execution_count": null,
      "outputs": []
    },
    {
      "cell_type": "code",
      "source": [
        "# Create overall_rating column (target variable) - average of all ratings\n",
        "rating_columns = df.columns\n",
        "df['overall_rating'] = df[rating_columns].mean(axis=1)"
      ],
      "metadata": {
        "id": "ipoQGSxlaGr_"
      },
      "execution_count": null,
      "outputs": []
    },
    {
      "cell_type": "code",
      "source": [
        "# Check\n",
        "df.dtypes"
      ],
      "metadata": {
        "colab": {
          "base_uri": "https://localhost:8080/",
          "height": 868
        },
        "id": "rRuWnqQmaP-L",
        "outputId": "70c0ded6-bbd7-488d-b76b-3c3982890d51"
      },
      "execution_count": null,
      "outputs": [
        {
          "output_type": "execute_result",
          "data": {
            "text/plain": [
              "churches                 float64\n",
              "resorts                  float64\n",
              "beaches                  float64\n",
              "parks                    float64\n",
              "theatres                 float64\n",
              "museums                  float64\n",
              "malls                    float64\n",
              "zoos                     float64\n",
              "restaurants              float64\n",
              "pubs/bars                float64\n",
              "local services           float64\n",
              "burger/pizza shops       float64\n",
              "hotels/other lodgings    float64\n",
              "juice bars               float64\n",
              "art galleries            float64\n",
              "dance clubs              float64\n",
              "swimming pools           float64\n",
              "gyms                     float64\n",
              "bakeries                 float64\n",
              "beauty & spas            float64\n",
              "cafes                    float64\n",
              "view points              float64\n",
              "monuments                float64\n",
              "gardens                  float64\n",
              "overall_rating           float64\n",
              "dtype: object"
            ],
            "text/html": [
              "<div>\n",
              "<style scoped>\n",
              "    .dataframe tbody tr th:only-of-type {\n",
              "        vertical-align: middle;\n",
              "    }\n",
              "\n",
              "    .dataframe tbody tr th {\n",
              "        vertical-align: top;\n",
              "    }\n",
              "\n",
              "    .dataframe thead th {\n",
              "        text-align: right;\n",
              "    }\n",
              "</style>\n",
              "<table border=\"1\" class=\"dataframe\">\n",
              "  <thead>\n",
              "    <tr style=\"text-align: right;\">\n",
              "      <th></th>\n",
              "      <th>0</th>\n",
              "    </tr>\n",
              "  </thead>\n",
              "  <tbody>\n",
              "    <tr>\n",
              "      <th>churches</th>\n",
              "      <td>float64</td>\n",
              "    </tr>\n",
              "    <tr>\n",
              "      <th>resorts</th>\n",
              "      <td>float64</td>\n",
              "    </tr>\n",
              "    <tr>\n",
              "      <th>beaches</th>\n",
              "      <td>float64</td>\n",
              "    </tr>\n",
              "    <tr>\n",
              "      <th>parks</th>\n",
              "      <td>float64</td>\n",
              "    </tr>\n",
              "    <tr>\n",
              "      <th>theatres</th>\n",
              "      <td>float64</td>\n",
              "    </tr>\n",
              "    <tr>\n",
              "      <th>museums</th>\n",
              "      <td>float64</td>\n",
              "    </tr>\n",
              "    <tr>\n",
              "      <th>malls</th>\n",
              "      <td>float64</td>\n",
              "    </tr>\n",
              "    <tr>\n",
              "      <th>zoos</th>\n",
              "      <td>float64</td>\n",
              "    </tr>\n",
              "    <tr>\n",
              "      <th>restaurants</th>\n",
              "      <td>float64</td>\n",
              "    </tr>\n",
              "    <tr>\n",
              "      <th>pubs/bars</th>\n",
              "      <td>float64</td>\n",
              "    </tr>\n",
              "    <tr>\n",
              "      <th>local services</th>\n",
              "      <td>float64</td>\n",
              "    </tr>\n",
              "    <tr>\n",
              "      <th>burger/pizza shops</th>\n",
              "      <td>float64</td>\n",
              "    </tr>\n",
              "    <tr>\n",
              "      <th>hotels/other lodgings</th>\n",
              "      <td>float64</td>\n",
              "    </tr>\n",
              "    <tr>\n",
              "      <th>juice bars</th>\n",
              "      <td>float64</td>\n",
              "    </tr>\n",
              "    <tr>\n",
              "      <th>art galleries</th>\n",
              "      <td>float64</td>\n",
              "    </tr>\n",
              "    <tr>\n",
              "      <th>dance clubs</th>\n",
              "      <td>float64</td>\n",
              "    </tr>\n",
              "    <tr>\n",
              "      <th>swimming pools</th>\n",
              "      <td>float64</td>\n",
              "    </tr>\n",
              "    <tr>\n",
              "      <th>gyms</th>\n",
              "      <td>float64</td>\n",
              "    </tr>\n",
              "    <tr>\n",
              "      <th>bakeries</th>\n",
              "      <td>float64</td>\n",
              "    </tr>\n",
              "    <tr>\n",
              "      <th>beauty &amp; spas</th>\n",
              "      <td>float64</td>\n",
              "    </tr>\n",
              "    <tr>\n",
              "      <th>cafes</th>\n",
              "      <td>float64</td>\n",
              "    </tr>\n",
              "    <tr>\n",
              "      <th>view points</th>\n",
              "      <td>float64</td>\n",
              "    </tr>\n",
              "    <tr>\n",
              "      <th>monuments</th>\n",
              "      <td>float64</td>\n",
              "    </tr>\n",
              "    <tr>\n",
              "      <th>gardens</th>\n",
              "      <td>float64</td>\n",
              "    </tr>\n",
              "    <tr>\n",
              "      <th>overall_rating</th>\n",
              "      <td>float64</td>\n",
              "    </tr>\n",
              "  </tbody>\n",
              "</table>\n",
              "</div><br><label><b>dtype:</b> object</label>"
            ]
          },
          "metadata": {},
          "execution_count": 49
        }
      ]
    },
    {
      "cell_type": "code",
      "source": [],
      "metadata": {
        "id": "T61kKPneb22V"
      },
      "execution_count": null,
      "outputs": []
    },
    {
      "cell_type": "code",
      "source": [],
      "metadata": {
        "id": "hzGlBuL-cKU9"
      },
      "execution_count": null,
      "outputs": []
    },
    {
      "cell_type": "markdown",
      "source": [
        "# Feature engineering"
      ],
      "metadata": {
        "id": "d1ILErz6dbBv"
      }
    },
    {
      "cell_type": "code",
      "source": [
        "from sklearn.model_selection import train_test_split, GridSearchCV"
      ],
      "metadata": {
        "id": "zxCWa2jlfOL0"
      },
      "execution_count": null,
      "outputs": []
    },
    {
      "cell_type": "code",
      "source": [
        "# Create additional features\n",
        "# Popular categories ratio\n",
        "df['popular_places_rating'] = df[['restaurants',\n",
        "                                  'malls',\n",
        "                                  'parks']].mean(axis=1)\n"
      ],
      "metadata": {
        "id": "q60FBb9Ide5V"
      },
      "execution_count": null,
      "outputs": []
    },
    {
      "cell_type": "code",
      "source": [
        "# Entertainment rating\n",
        "df['entertainment_rating'] = df[['theatres',\n",
        "                                'museums',\n",
        "                                'dance clubs']].mean(axis=1)"
      ],
      "metadata": {
        "id": "mAds_XKqdmuD"
      },
      "execution_count": null,
      "outputs": []
    },
    {
      "cell_type": "code",
      "source": [
        "# Food rating\n",
        "df['food_rating'] = df[['restaurants',\n",
        "                         'burger/pizza shops',\n",
        "                         'cafes',\n",
        "                         'bakeries']].mean(axis=1)\n"
      ],
      "metadata": {
        "id": "u9TJ80yceTil"
      },
      "execution_count": null,
      "outputs": []
    },
    {
      "cell_type": "code",
      "source": [
        "#Outdoors rating\n",
        "df['outdoors_rating'] = df[['beaches',\n",
        "                           'parks',\n",
        "                           'gardens',\n",
        "                           'view points']].mean(axis=1)"
      ],
      "metadata": {
        "id": "zQ4s_szMejRL"
      },
      "execution_count": null,
      "outputs": []
    },
    {
      "cell_type": "code",
      "source": [
        "# Cultural rating\n",
        "df['cultural_rating'] = df[['museums',\n",
        "                           'art galleries',\n",
        "                           'monuments',\n",
        "                           'churches']].mean(axis=1)"
      ],
      "metadata": {
        "id": "bj7JnA45eoNv"
      },
      "execution_count": null,
      "outputs": []
    },
    {
      "cell_type": "code",
      "source": [
        "# Check for missing values and handle them\n",
        "print(\"Missing values per column:\")\n",
        "print(df.isnull().sum())"
      ],
      "metadata": {
        "colab": {
          "base_uri": "https://localhost:8080/"
        },
        "id": "rSsBGVgdethC",
        "outputId": "14b8df96-eba0-4852-b489-f424bfaacd34"
      },
      "execution_count": null,
      "outputs": [
        {
          "output_type": "stream",
          "name": "stdout",
          "text": [
            "Missing values per column:\n",
            "churches                 0\n",
            "resorts                  0\n",
            "beaches                  0\n",
            "parks                    0\n",
            "theatres                 0\n",
            "museums                  0\n",
            "malls                    0\n",
            "zoos                     0\n",
            "restaurants              0\n",
            "pubs/bars                0\n",
            "local services           1\n",
            "burger/pizza shops       1\n",
            "hotels/other lodgings    0\n",
            "juice bars               0\n",
            "art galleries            0\n",
            "dance clubs              0\n",
            "swimming pools           0\n",
            "gyms                     0\n",
            "bakeries                 0\n",
            "beauty & spas            0\n",
            "cafes                    0\n",
            "view points              0\n",
            "monuments                0\n",
            "gardens                  1\n",
            "overall_rating           0\n",
            "popular_places_rating    0\n",
            "entertainment_rating     0\n",
            "food_rating              0\n",
            "outdoors_rating          0\n",
            "cultural_rating          0\n",
            "dtype: int64\n"
          ]
        }
      ]
    },
    {
      "cell_type": "code",
      "source": [
        "# Fill missing values with the mean of each column\n",
        "df = df.fillna(df.mean())"
      ],
      "metadata": {
        "id": "E9LflYLgex4O"
      },
      "execution_count": null,
      "outputs": []
    },
    {
      "cell_type": "code",
      "source": [
        "# Prepare the data\n",
        "X = df.drop(['overall_rating'], axis=1)\n",
        "y = df['overall_rating']"
      ],
      "metadata": {
        "id": "_O3nKXTEe36G"
      },
      "execution_count": null,
      "outputs": []
    },
    {
      "cell_type": "code",
      "source": [
        "# Split data into train and test sets\n",
        "X_train, X_test, y_train, y_test = train_test_split(X, y, test_size=0.2, random_state=42)"
      ],
      "metadata": {
        "id": "6QH67cqtfAfT"
      },
      "execution_count": null,
      "outputs": []
    },
    {
      "cell_type": "markdown",
      "source": [
        "# Model building and hyperparameters tuning"
      ],
      "metadata": {
        "id": "cB6Mhq39fWKJ"
      }
    },
    {
      "cell_type": "code",
      "source": [
        "!pip install optuna"
      ],
      "metadata": {
        "colab": {
          "base_uri": "https://localhost:8080/"
        },
        "id": "6p0yQ7PVnx3Y",
        "outputId": "49b5bc8e-a4f2-4c5d-bc18-d30ab125681e"
      },
      "execution_count": null,
      "outputs": [
        {
          "output_type": "stream",
          "name": "stdout",
          "text": [
            "Collecting optuna\n",
            "  Downloading optuna-4.2.1-py3-none-any.whl.metadata (17 kB)\n",
            "Collecting alembic>=1.5.0 (from optuna)\n",
            "  Downloading alembic-1.15.2-py3-none-any.whl.metadata (7.3 kB)\n",
            "Collecting colorlog (from optuna)\n",
            "  Downloading colorlog-6.9.0-py3-none-any.whl.metadata (10 kB)\n",
            "Requirement already satisfied: numpy in /usr/local/lib/python3.11/dist-packages (from optuna) (2.0.2)\n",
            "Requirement already satisfied: packaging>=20.0 in /usr/local/lib/python3.11/dist-packages (from optuna) (24.2)\n",
            "Requirement already satisfied: sqlalchemy>=1.4.2 in /usr/local/lib/python3.11/dist-packages (from optuna) (2.0.39)\n",
            "Requirement already satisfied: tqdm in /usr/local/lib/python3.11/dist-packages (from optuna) (4.67.1)\n",
            "Requirement already satisfied: PyYAML in /usr/local/lib/python3.11/dist-packages (from optuna) (6.0.2)\n",
            "Requirement already satisfied: Mako in /usr/lib/python3/dist-packages (from alembic>=1.5.0->optuna) (1.1.3)\n",
            "Requirement already satisfied: typing-extensions>=4.12 in /usr/local/lib/python3.11/dist-packages (from alembic>=1.5.0->optuna) (4.12.2)\n",
            "Requirement already satisfied: greenlet!=0.4.17 in /usr/local/lib/python3.11/dist-packages (from sqlalchemy>=1.4.2->optuna) (3.1.1)\n",
            "Downloading optuna-4.2.1-py3-none-any.whl (383 kB)\n",
            "\u001b[2K   \u001b[90m━━━━━━━━━━━━━━━━━━━━━━━━━━━━━━━━━━━━━━━━\u001b[0m \u001b[32m383.6/383.6 kB\u001b[0m \u001b[31m23.2 MB/s\u001b[0m eta \u001b[36m0:00:00\u001b[0m\n",
            "\u001b[?25hDownloading alembic-1.15.2-py3-none-any.whl (231 kB)\n",
            "\u001b[2K   \u001b[90m━━━━━━━━━━━━━━━━━━━━━━━━━━━━━━━━━━━━━━━━\u001b[0m \u001b[32m231.9/231.9 kB\u001b[0m \u001b[31m18.4 MB/s\u001b[0m eta \u001b[36m0:00:00\u001b[0m\n",
            "\u001b[?25hDownloading colorlog-6.9.0-py3-none-any.whl (11 kB)\n",
            "Installing collected packages: colorlog, alembic, optuna\n",
            "Successfully installed alembic-1.15.2 colorlog-6.9.0 optuna-4.2.1\n"
          ]
        }
      ]
    },
    {
      "cell_type": "code",
      "source": [
        "from sklearn.preprocessing import StandardScaler\n",
        "from sklearn.feature_selection import SelectKBest, f_regression\n",
        "from sklearn.pipeline import Pipeline\n",
        "from sklearn.metrics import mean_squared_error, r2_score\n",
        "from tensorflow.keras.models import Sequential\n",
        "from tensorflow.keras.layers import Dense, Dropout, BatchNormalization\n",
        "from tensorflow.keras.optimizers import Adam\n",
        "from tensorflow.keras.callbacks import EarlyStopping\n",
        "import tensorflow as tf\n",
        "import optuna\n",
        "from tqdm.auto import tqdm\n",
        "import numpy as np\n",
        "import matplotlib.pyplot as plt\n",
        "import seaborn as sns"
      ],
      "metadata": {
        "id": "xOVVmhefhD91"
      },
      "execution_count": null,
      "outputs": []
    },
    {
      "cell_type": "code",
      "source": [
        "# Create a preprocessor pipeline\n",
        "preprocessor = Pipeline([\n",
        "    ('scaler', StandardScaler()),\n",
        "    ('feature_selection', SelectKBest(f_regression, k=20))\n",
        "])"
      ],
      "metadata": {
        "id": "JVCYnZiOiQri"
      },
      "execution_count": null,
      "outputs": []
    },
    {
      "cell_type": "code",
      "source": [
        "# Correctly fit and transform the training data\n",
        "X_train_preprocessed = preprocessor.fit_transform(X_train, y_train)  # Note: passing y_train here\n",
        "X_test_preprocessed = preprocessor.transform(X_test)"
      ],
      "metadata": {
        "id": "mSs3HNmdnQvw"
      },
      "execution_count": null,
      "outputs": []
    },
    {
      "cell_type": "code",
      "source": [
        "# Get feature names after selection for later visualization\n",
        "feature_selector = preprocessor.named_steps['feature_selection']\n",
        "selected_features = X.columns[feature_selector.get_support()]\n",
        "feature_scores = feature_selector.scores_"
      ],
      "metadata": {
        "id": "CVsR2vQQnTRx"
      },
      "execution_count": null,
      "outputs": []
    },
    {
      "cell_type": "code",
      "source": [
        "# Define the neural network model builder function\n",
        "def create_model(neurons=64, hidden_layers=2, activation='relu',\n",
        "                 dropout_rate=0.2, learning_rate=0.001):\n",
        "    model = Sequential()\n",
        "\n",
        "    # Input layer\n",
        "    model.add(Dense(neurons, input_dim=X_train_preprocessed.shape[1], activation=activation))\n",
        "    model.add(BatchNormalization())\n",
        "    model.add(Dropout(dropout_rate))\n",
        "\n",
        "    # Hidden layers\n",
        "    for _ in range(hidden_layers - 1):\n",
        "        model.add(Dense(neurons, activation=activation))\n",
        "        model.add(BatchNormalization())\n",
        "        model.add(Dropout(dropout_rate))\n",
        "\n",
        "    # Output layer\n",
        "    model.add(Dense(1, activation='linear'))\n",
        "\n",
        "    optimizer = Adam(learning_rate=learning_rate)\n",
        "    model.compile(loss='mean_squared_error', optimizer=optimizer, metrics=['mae'])\n",
        "\n",
        "    return model"
      ],
      "metadata": {
        "id": "0leTp85Bn8jh"
      },
      "execution_count": null,
      "outputs": []
    },
    {
      "cell_type": "code",
      "source": [
        "# Define early stopping callback\n",
        "early_stopping = EarlyStopping(\n",
        "    monitor='val_loss',\n",
        "    patience=10,\n",
        "    verbose=1,\n",
        "    restore_best_weights=True\n",
        ")"
      ],
      "metadata": {
        "id": "BXb3wz9Fn-6v"
      },
      "execution_count": null,
      "outputs": []
    },
    {
      "cell_type": "code",
      "source": [
        "# Define Optuna objective function for hyperparameter optimization\n",
        "def objective(trial):\n",
        "    # Suggest hyperparameters\n",
        "    neurons = trial.suggest_categorical('neurons', [32, 64, 128, 256])\n",
        "    hidden_layers = trial.suggest_int('hidden_layers', 1, 3)\n",
        "    activation = trial.suggest_categorical('activation', ['relu', 'elu'])\n",
        "    dropout_rate = trial.suggest_float('dropout_rate', 0.1, 0.4)\n",
        "    learning_rate = trial.suggest_float('learning_rate', 0.0001, 0.01, log=True)\n",
        "    batch_size = trial.suggest_categorical('batch_size', [16, 32, 64, 128])\n",
        "\n",
        "    # Create and train model\n",
        "    model = create_model(\n",
        "        neurons=neurons,\n",
        "        hidden_layers=hidden_layers,\n",
        "        activation=activation,\n",
        "        dropout_rate=dropout_rate,\n",
        "        learning_rate=learning_rate\n",
        "    )\n",
        "\n",
        "    # Train model\n",
        "    history = model.fit(\n",
        "        X_train_preprocessed, y_train,\n",
        "        epochs=50,\n",
        "        batch_size=batch_size,\n",
        "        validation_split=0.2,\n",
        "        callbacks=[early_stopping],\n",
        "        verbose=0\n",
        "    )\n",
        "\n",
        "    # Return the validation loss\n",
        "    val_loss = min(history.history['val_loss'])\n",
        "    return val_loss"
      ],
      "metadata": {
        "id": "VmceDR9hoAao"
      },
      "execution_count": null,
      "outputs": []
    },
    {
      "cell_type": "code",
      "source": [
        "# Create the Optuna study and run optimization\n",
        "print(\"Starting Optuna hyperparameter optimization...\")\n",
        "study = optuna.create_study(direction='minimize')\n",
        "study.optimize(objective, n_trials=20, show_progress_bar=True)"
      ],
      "metadata": {
        "colab": {
          "base_uri": "https://localhost:8080/",
          "height": 1000,
          "referenced_widgets": [
            "20586d57786d48b78792a0cf2961a8b1",
            "9278e3a4b9864d33b0c840d7c8f8716e",
            "a36451b2defb4c5ab2808a6022dab666",
            "6099466ff76646a393d9d61a6c40e51a",
            "23251bbac05d4b20829ccaf9ba76a851",
            "91365783e7354c4d914c52e0b15fb7a7",
            "03a74289e2b446ffaf38a8ae17137542",
            "47128f9059c549ffa9b0cde667a0fd28",
            "b800b126cabb45a6afe6c72f27cf5552",
            "bc75d8d5489741f39be3d26699bfdfe3",
            "9f184aed935d4f619e520e6043ebd9df"
          ]
        },
        "collapsed": true,
        "id": "A-DaO95goDfE",
        "outputId": "e574919f-74a7-40b1-ba40-475fd5f75729"
      },
      "execution_count": null,
      "outputs": [
        {
          "output_type": "stream",
          "name": "stderr",
          "text": [
            "[I 2025-03-29 06:39:24,270] A new study created in memory with name: no-name-b1e8e772-cb1f-4803-a009-e376e644799f\n"
          ]
        },
        {
          "output_type": "stream",
          "name": "stdout",
          "text": [
            "Starting Optuna hyperparameter optimization...\n"
          ]
        },
        {
          "output_type": "display_data",
          "data": {
            "text/plain": [
              "  0%|          | 0/20 [00:00<?, ?it/s]"
            ],
            "application/vnd.jupyter.widget-view+json": {
              "version_major": 2,
              "version_minor": 0,
              "model_id": "20586d57786d48b78792a0cf2961a8b1"
            }
          },
          "metadata": {}
        },
        {
          "output_type": "stream",
          "name": "stderr",
          "text": [
            "/usr/local/lib/python3.11/dist-packages/keras/src/layers/core/dense.py:87: UserWarning: Do not pass an `input_shape`/`input_dim` argument to a layer. When using Sequential models, prefer using an `Input(shape)` object as the first layer in the model instead.\n",
            "  super().__init__(activity_regularizer=activity_regularizer, **kwargs)\n"
          ]
        },
        {
          "output_type": "stream",
          "name": "stdout",
          "text": [
            "Epoch 32: early stopping\n",
            "Restoring model weights from the end of the best epoch: 22.\n",
            "[I 2025-03-29 06:39:40,105] Trial 0 finished with value: 0.005311643239110708 and parameters: {'neurons': 256, 'hidden_layers': 3, 'activation': 'elu', 'dropout_rate': 0.11719947477466533, 'learning_rate': 0.008479342988989988, 'batch_size': 128}. Best is trial 0 with value: 0.005311643239110708.\n"
          ]
        },
        {
          "output_type": "stream",
          "name": "stderr",
          "text": [
            "/usr/local/lib/python3.11/dist-packages/keras/src/layers/core/dense.py:87: UserWarning: Do not pass an `input_shape`/`input_dim` argument to a layer. When using Sequential models, prefer using an `Input(shape)` object as the first layer in the model instead.\n",
            "  super().__init__(activity_regularizer=activity_regularizer, **kwargs)\n"
          ]
        },
        {
          "output_type": "stream",
          "name": "stdout",
          "text": [
            "Restoring model weights from the end of the best epoch: 46.\n",
            "[I 2025-03-29 06:39:55,646] Trial 1 finished with value: 0.005223758518695831 and parameters: {'neurons': 128, 'hidden_layers': 2, 'activation': 'elu', 'dropout_rate': 0.15701885082454206, 'learning_rate': 0.0018517630938387382, 'batch_size': 128}. Best is trial 1 with value: 0.005223758518695831.\n"
          ]
        },
        {
          "output_type": "stream",
          "name": "stderr",
          "text": [
            "/usr/local/lib/python3.11/dist-packages/keras/src/layers/core/dense.py:87: UserWarning: Do not pass an `input_shape`/`input_dim` argument to a layer. When using Sequential models, prefer using an `Input(shape)` object as the first layer in the model instead.\n",
            "  super().__init__(activity_regularizer=activity_regularizer, **kwargs)\n"
          ]
        },
        {
          "output_type": "stream",
          "name": "stdout",
          "text": [
            "Epoch 31: early stopping\n",
            "Restoring model weights from the end of the best epoch: 21.\n",
            "[I 2025-03-29 06:40:31,810] Trial 2 finished with value: 0.004572991281747818 and parameters: {'neurons': 128, 'hidden_layers': 3, 'activation': 'relu', 'dropout_rate': 0.35703553954336453, 'learning_rate': 0.003975605447596445, 'batch_size': 16}. Best is trial 2 with value: 0.004572991281747818.\n"
          ]
        },
        {
          "output_type": "stream",
          "name": "stderr",
          "text": [
            "/usr/local/lib/python3.11/dist-packages/keras/src/layers/core/dense.py:87: UserWarning: Do not pass an `input_shape`/`input_dim` argument to a layer. When using Sequential models, prefer using an `Input(shape)` object as the first layer in the model instead.\n",
            "  super().__init__(activity_regularizer=activity_regularizer, **kwargs)\n"
          ]
        },
        {
          "output_type": "stream",
          "name": "stdout",
          "text": [
            "Restoring model weights from the end of the best epoch: 49.\n",
            "[I 2025-03-29 06:40:44,289] Trial 3 finished with value: 0.004999944008886814 and parameters: {'neurons': 128, 'hidden_layers': 1, 'activation': 'relu', 'dropout_rate': 0.27919957616502655, 'learning_rate': 0.0014993833432655037, 'batch_size': 128}. Best is trial 2 with value: 0.004572991281747818.\n"
          ]
        },
        {
          "output_type": "stream",
          "name": "stderr",
          "text": [
            "/usr/local/lib/python3.11/dist-packages/keras/src/layers/core/dense.py:87: UserWarning: Do not pass an `input_shape`/`input_dim` argument to a layer. When using Sequential models, prefer using an `Input(shape)` object as the first layer in the model instead.\n",
            "  super().__init__(activity_regularizer=activity_regularizer, **kwargs)\n"
          ]
        },
        {
          "output_type": "stream",
          "name": "stdout",
          "text": [
            "Restoring model weights from the end of the best epoch: 50.\n",
            "[I 2025-03-29 06:41:03,323] Trial 4 finished with value: 0.057730793952941895 and parameters: {'neurons': 32, 'hidden_layers': 3, 'activation': 'relu', 'dropout_rate': 0.13345868732933425, 'learning_rate': 0.00013861920650551856, 'batch_size': 64}. Best is trial 2 with value: 0.004572991281747818.\n"
          ]
        },
        {
          "output_type": "stream",
          "name": "stderr",
          "text": [
            "/usr/local/lib/python3.11/dist-packages/keras/src/layers/core/dense.py:87: UserWarning: Do not pass an `input_shape`/`input_dim` argument to a layer. When using Sequential models, prefer using an `Input(shape)` object as the first layer in the model instead.\n",
            "  super().__init__(activity_regularizer=activity_regularizer, **kwargs)\n"
          ]
        },
        {
          "output_type": "stream",
          "name": "stdout",
          "text": [
            "Epoch 31: early stopping\n",
            "Restoring model weights from the end of the best epoch: 21.\n",
            "[I 2025-03-29 06:41:25,130] Trial 5 finished with value: 0.005112874321639538 and parameters: {'neurons': 64, 'hidden_layers': 3, 'activation': 'relu', 'dropout_rate': 0.37182746144771195, 'learning_rate': 0.006345573509004579, 'batch_size': 32}. Best is trial 2 with value: 0.004572991281747818.\n"
          ]
        },
        {
          "output_type": "stream",
          "name": "stderr",
          "text": [
            "/usr/local/lib/python3.11/dist-packages/keras/src/layers/core/dense.py:87: UserWarning: Do not pass an `input_shape`/`input_dim` argument to a layer. When using Sequential models, prefer using an `Input(shape)` object as the first layer in the model instead.\n",
            "  super().__init__(activity_regularizer=activity_regularizer, **kwargs)\n"
          ]
        },
        {
          "output_type": "stream",
          "name": "stdout",
          "text": [
            "Restoring model weights from the end of the best epoch: 49.\n",
            "[I 2025-03-29 06:42:01,210] Trial 6 finished with value: 0.004987736698240042 and parameters: {'neurons': 128, 'hidden_layers': 1, 'activation': 'relu', 'dropout_rate': 0.34502686213492473, 'learning_rate': 0.00021444411354000934, 'batch_size': 16}. Best is trial 2 with value: 0.004572991281747818.\n"
          ]
        },
        {
          "output_type": "stream",
          "name": "stderr",
          "text": [
            "/usr/local/lib/python3.11/dist-packages/keras/src/layers/core/dense.py:87: UserWarning: Do not pass an `input_shape`/`input_dim` argument to a layer. When using Sequential models, prefer using an `Input(shape)` object as the first layer in the model instead.\n",
            "  super().__init__(activity_regularizer=activity_regularizer, **kwargs)\n"
          ]
        },
        {
          "output_type": "stream",
          "name": "stdout",
          "text": [
            "Restoring model weights from the end of the best epoch: 49.\n",
            "[I 2025-03-29 06:42:27,504] Trial 7 finished with value: 0.01742306910455227 and parameters: {'neurons': 32, 'hidden_layers': 1, 'activation': 'elu', 'dropout_rate': 0.21092515594007544, 'learning_rate': 0.00016191679920328419, 'batch_size': 32}. Best is trial 2 with value: 0.004572991281747818.\n"
          ]
        },
        {
          "output_type": "stream",
          "name": "stderr",
          "text": [
            "/usr/local/lib/python3.11/dist-packages/keras/src/layers/core/dense.py:87: UserWarning: Do not pass an `input_shape`/`input_dim` argument to a layer. When using Sequential models, prefer using an `Input(shape)` object as the first layer in the model instead.\n",
            "  super().__init__(activity_regularizer=activity_regularizer, **kwargs)\n"
          ]
        },
        {
          "output_type": "stream",
          "name": "stdout",
          "text": [
            "Epoch 49: early stopping\n",
            "Restoring model weights from the end of the best epoch: 39.\n",
            "[I 2025-03-29 06:43:03,382] Trial 8 finished with value: 0.0047581433318555355 and parameters: {'neurons': 32, 'hidden_layers': 1, 'activation': 'elu', 'dropout_rate': 0.387442705378353, 'learning_rate': 0.004062855795183759, 'batch_size': 16}. Best is trial 2 with value: 0.004572991281747818.\n"
          ]
        },
        {
          "output_type": "stream",
          "name": "stderr",
          "text": [
            "/usr/local/lib/python3.11/dist-packages/keras/src/layers/core/dense.py:87: UserWarning: Do not pass an `input_shape`/`input_dim` argument to a layer. When using Sequential models, prefer using an `Input(shape)` object as the first layer in the model instead.\n",
            "  super().__init__(activity_regularizer=activity_regularizer, **kwargs)\n"
          ]
        },
        {
          "output_type": "stream",
          "name": "stdout",
          "text": [
            "Restoring model weights from the end of the best epoch: 44.\n",
            "[I 2025-03-29 06:43:18,826] Trial 9 finished with value: 0.007029795087873936 and parameters: {'neurons': 128, 'hidden_layers': 2, 'activation': 'relu', 'dropout_rate': 0.21993696028886328, 'learning_rate': 0.0007800446211370153, 'batch_size': 128}. Best is trial 2 with value: 0.004572991281747818.\n"
          ]
        },
        {
          "output_type": "stream",
          "name": "stderr",
          "text": [
            "/usr/local/lib/python3.11/dist-packages/keras/src/layers/core/dense.py:87: UserWarning: Do not pass an `input_shape`/`input_dim` argument to a layer. When using Sequential models, prefer using an `Input(shape)` object as the first layer in the model instead.\n",
            "  super().__init__(activity_regularizer=activity_regularizer, **kwargs)\n"
          ]
        },
        {
          "output_type": "stream",
          "name": "stdout",
          "text": [
            "Restoring model weights from the end of the best epoch: 48.\n",
            "[I 2025-03-29 06:44:12,883] Trial 10 finished with value: 0.004896706435829401 and parameters: {'neurons': 64, 'hidden_layers': 3, 'activation': 'relu', 'dropout_rate': 0.31489386462923985, 'learning_rate': 0.0005249580648148483, 'batch_size': 16}. Best is trial 2 with value: 0.004572991281747818.\n"
          ]
        },
        {
          "output_type": "stream",
          "name": "stderr",
          "text": [
            "/usr/local/lib/python3.11/dist-packages/keras/src/layers/core/dense.py:87: UserWarning: Do not pass an `input_shape`/`input_dim` argument to a layer. When using Sequential models, prefer using an `Input(shape)` object as the first layer in the model instead.\n",
            "  super().__init__(activity_regularizer=activity_regularizer, **kwargs)\n"
          ]
        },
        {
          "output_type": "stream",
          "name": "stdout",
          "text": [
            "Epoch 26: early stopping\n",
            "Restoring model weights from the end of the best epoch: 16.\n",
            "[I 2025-03-29 06:44:36,427] Trial 11 finished with value: 0.005504555068910122 and parameters: {'neurons': 32, 'hidden_layers': 2, 'activation': 'elu', 'dropout_rate': 0.3949964509297153, 'learning_rate': 0.0035118243814327497, 'batch_size': 16}. Best is trial 2 with value: 0.004572991281747818.\n"
          ]
        },
        {
          "output_type": "stream",
          "name": "stderr",
          "text": [
            "/usr/local/lib/python3.11/dist-packages/keras/src/layers/core/dense.py:87: UserWarning: Do not pass an `input_shape`/`input_dim` argument to a layer. When using Sequential models, prefer using an `Input(shape)` object as the first layer in the model instead.\n",
            "  super().__init__(activity_regularizer=activity_regularizer, **kwargs)\n"
          ]
        },
        {
          "output_type": "stream",
          "name": "stdout",
          "text": [
            "Epoch 32: early stopping\n",
            "Restoring model weights from the end of the best epoch: 22.\n",
            "[I 2025-03-29 06:45:00,539] Trial 12 finished with value: 0.005186855792999268 and parameters: {'neurons': 256, 'hidden_layers': 1, 'activation': 'elu', 'dropout_rate': 0.3141808868337603, 'learning_rate': 0.0032631515009957945, 'batch_size': 16}. Best is trial 2 with value: 0.004572991281747818.\n"
          ]
        },
        {
          "output_type": "stream",
          "name": "stderr",
          "text": [
            "/usr/local/lib/python3.11/dist-packages/keras/src/layers/core/dense.py:87: UserWarning: Do not pass an `input_shape`/`input_dim` argument to a layer. When using Sequential models, prefer using an `Input(shape)` object as the first layer in the model instead.\n",
            "  super().__init__(activity_regularizer=activity_regularizer, **kwargs)\n"
          ]
        },
        {
          "output_type": "stream",
          "name": "stdout",
          "text": [
            "Restoring model weights from the end of the best epoch: 45.\n",
            "[I 2025-03-29 06:45:43,752] Trial 13 finished with value: 0.004973133094608784 and parameters: {'neurons': 32, 'hidden_layers': 2, 'activation': 'elu', 'dropout_rate': 0.35326845410806157, 'learning_rate': 0.0034601254640423966, 'batch_size': 16}. Best is trial 2 with value: 0.004572991281747818.\n"
          ]
        },
        {
          "output_type": "stream",
          "name": "stderr",
          "text": [
            "/usr/local/lib/python3.11/dist-packages/keras/src/layers/core/dense.py:87: UserWarning: Do not pass an `input_shape`/`input_dim` argument to a layer. When using Sequential models, prefer using an `Input(shape)` object as the first layer in the model instead.\n",
            "  super().__init__(activity_regularizer=activity_regularizer, **kwargs)\n"
          ]
        },
        {
          "output_type": "stream",
          "name": "stdout",
          "text": [
            "Epoch 44: early stopping\n",
            "Restoring model weights from the end of the best epoch: 34.\n",
            "[I 2025-03-29 06:45:59,685] Trial 14 finished with value: 0.004624299239367247 and parameters: {'neurons': 128, 'hidden_layers': 2, 'activation': 'relu', 'dropout_rate': 0.3923450186783405, 'learning_rate': 0.00522375849490789, 'batch_size': 64}. Best is trial 2 with value: 0.004572991281747818.\n"
          ]
        },
        {
          "output_type": "stream",
          "name": "stderr",
          "text": [
            "/usr/local/lib/python3.11/dist-packages/keras/src/layers/core/dense.py:87: UserWarning: Do not pass an `input_shape`/`input_dim` argument to a layer. When using Sequential models, prefer using an `Input(shape)` object as the first layer in the model instead.\n",
            "  super().__init__(activity_regularizer=activity_regularizer, **kwargs)\n"
          ]
        },
        {
          "output_type": "stream",
          "name": "stdout",
          "text": [
            "Epoch 20: early stopping\n",
            "Restoring model weights from the end of the best epoch: 10.\n",
            "[I 2025-03-29 06:46:08,645] Trial 15 finished with value: 0.004857704974710941 and parameters: {'neurons': 128, 'hidden_layers': 2, 'activation': 'relu', 'dropout_rate': 0.2732304663914302, 'learning_rate': 0.009987586167384606, 'batch_size': 64}. Best is trial 2 with value: 0.004572991281747818.\n"
          ]
        },
        {
          "output_type": "stream",
          "name": "stderr",
          "text": [
            "/usr/local/lib/python3.11/dist-packages/keras/src/layers/core/dense.py:87: UserWarning: Do not pass an `input_shape`/`input_dim` argument to a layer. When using Sequential models, prefer using an `Input(shape)` object as the first layer in the model instead.\n",
            "  super().__init__(activity_regularizer=activity_regularizer, **kwargs)\n"
          ]
        },
        {
          "output_type": "stream",
          "name": "stdout",
          "text": [
            "Restoring model weights from the end of the best epoch: 47.\n",
            "[I 2025-03-29 06:46:28,854] Trial 16 finished with value: 0.00469884742051363 and parameters: {'neurons': 128, 'hidden_layers': 3, 'activation': 'relu', 'dropout_rate': 0.3249480741883769, 'learning_rate': 0.0015108799607928456, 'batch_size': 64}. Best is trial 2 with value: 0.004572991281747818.\n"
          ]
        },
        {
          "output_type": "stream",
          "name": "stderr",
          "text": [
            "/usr/local/lib/python3.11/dist-packages/keras/src/layers/core/dense.py:87: UserWarning: Do not pass an `input_shape`/`input_dim` argument to a layer. When using Sequential models, prefer using an `Input(shape)` object as the first layer in the model instead.\n",
            "  super().__init__(activity_regularizer=activity_regularizer, **kwargs)\n"
          ]
        },
        {
          "output_type": "stream",
          "name": "stdout",
          "text": [
            "Restoring model weights from the end of the best epoch: 48.\n",
            "[I 2025-03-29 06:46:47,211] Trial 17 finished with value: 0.015411078929901123 and parameters: {'neurons': 128, 'hidden_layers': 2, 'activation': 'relu', 'dropout_rate': 0.3984672701057813, 'learning_rate': 0.00040707762604572025, 'batch_size': 64}. Best is trial 2 with value: 0.004572991281747818.\n"
          ]
        },
        {
          "output_type": "stream",
          "name": "stderr",
          "text": [
            "/usr/local/lib/python3.11/dist-packages/keras/src/layers/core/dense.py:87: UserWarning: Do not pass an `input_shape`/`input_dim` argument to a layer. When using Sequential models, prefer using an `Input(shape)` object as the first layer in the model instead.\n",
            "  super().__init__(activity_regularizer=activity_regularizer, **kwargs)\n"
          ]
        },
        {
          "output_type": "stream",
          "name": "stdout",
          "text": [
            "Epoch 38: early stopping\n",
            "Restoring model weights from the end of the best epoch: 28.\n",
            "[I 2025-03-29 06:47:04,109] Trial 18 finished with value: 0.004505644552409649 and parameters: {'neurons': 128, 'hidden_layers': 3, 'activation': 'relu', 'dropout_rate': 0.28087842586028416, 'learning_rate': 0.006105821761272673, 'batch_size': 64}. Best is trial 18 with value: 0.004505644552409649.\n"
          ]
        },
        {
          "output_type": "stream",
          "name": "stderr",
          "text": [
            "/usr/local/lib/python3.11/dist-packages/keras/src/layers/core/dense.py:87: UserWarning: Do not pass an `input_shape`/`input_dim` argument to a layer. When using Sequential models, prefer using an `Input(shape)` object as the first layer in the model instead.\n",
            "  super().__init__(activity_regularizer=activity_regularizer, **kwargs)\n"
          ]
        },
        {
          "output_type": "stream",
          "name": "stdout",
          "text": [
            "Epoch 48: early stopping\n",
            "Restoring model weights from the end of the best epoch: 38.\n",
            "[I 2025-03-29 06:47:34,135] Trial 19 finished with value: 0.004878669045865536 and parameters: {'neurons': 64, 'hidden_layers': 3, 'activation': 'relu', 'dropout_rate': 0.2334510589341405, 'learning_rate': 0.0023135072254432563, 'batch_size': 32}. Best is trial 18 with value: 0.004505644552409649.\n"
          ]
        }
      ]
    },
    {
      "cell_type": "code",
      "source": [
        "# Print best hyperparameters\n",
        "print(\"\\nBest trial:\")\n",
        "trial = study.best_trial\n",
        "print(f\"  Value (validation loss): {trial.value}\")\n",
        "print(\"  Params: \")\n",
        "for key, value in trial.params.items():\n",
        "    print(f\"    {key}: {value}\")"
      ],
      "metadata": {
        "colab": {
          "base_uri": "https://localhost:8080/"
        },
        "id": "kKFkYaQToGnO",
        "outputId": "fb941d2b-6e7e-4a29-9acf-4d5b4ce2e477"
      },
      "execution_count": null,
      "outputs": [
        {
          "output_type": "stream",
          "name": "stdout",
          "text": [
            "\n",
            "Best trial:\n",
            "  Value (validation loss): 0.004505644552409649\n",
            "  Params: \n",
            "    neurons: 128\n",
            "    hidden_layers: 3\n",
            "    activation: relu\n",
            "    dropout_rate: 0.28087842586028416\n",
            "    learning_rate: 0.006105821761272673\n",
            "    batch_size: 64\n"
          ]
        }
      ]
    },
    {
      "cell_type": "code",
      "source": [
        "# Create final model with best hyperparameters\n",
        "best_params = study.best_params\n",
        "print(\"\\nTraining final model with best hyperparameters...\")\n",
        "final_model = create_model(\n",
        "    neurons=best_params['neurons'],\n",
        "    hidden_layers=best_params['hidden_layers'],\n",
        "    activation=best_params['activation'],\n",
        "    dropout_rate=best_params['dropout_rate'],\n",
        "    learning_rate=best_params['learning_rate']\n",
        ")"
      ],
      "metadata": {
        "colab": {
          "base_uri": "https://localhost:8080/"
        },
        "id": "uY09i4XKsStG",
        "outputId": "1afd856f-caf7-438b-b5c6-3ca77cb6d535"
      },
      "execution_count": null,
      "outputs": [
        {
          "output_type": "stream",
          "name": "stdout",
          "text": [
            "\n",
            "Training final model with best hyperparameters...\n"
          ]
        },
        {
          "output_type": "stream",
          "name": "stderr",
          "text": [
            "/usr/local/lib/python3.11/dist-packages/keras/src/layers/core/dense.py:87: UserWarning: Do not pass an `input_shape`/`input_dim` argument to a layer. When using Sequential models, prefer using an `Input(shape)` object as the first layer in the model instead.\n",
            "  super().__init__(activity_regularizer=activity_regularizer, **kwargs)\n"
          ]
        }
      ]
    },
    {
      "cell_type": "code",
      "source": [
        "# Train final model\n",
        "history = final_model.fit(\n",
        "    X_train_preprocessed, y_train,\n",
        "    epochs=50,\n",
        "    batch_size=best_params['batch_size'],\n",
        "    validation_split=0.2,\n",
        "    callbacks=[early_stopping],\n",
        "    verbose=1\n",
        ")"
      ],
      "metadata": {
        "colab": {
          "base_uri": "https://localhost:8080/"
        },
        "id": "XGGRCycksVR-",
        "outputId": "1c276587-a500-418b-b347-12a091cb5e53"
      },
      "execution_count": null,
      "outputs": [
        {
          "output_type": "stream",
          "name": "stdout",
          "text": [
            "Epoch 1/50\n",
            "\u001b[1m55/55\u001b[0m \u001b[32m━━━━━━━━━━━━━━━━━━━━\u001b[0m\u001b[37m\u001b[0m \u001b[1m4s\u001b[0m 9ms/step - loss: 3.2058 - mae: 1.3905 - val_loss: 0.0537 - val_mae: 0.1848\n",
            "Epoch 2/50\n",
            "\u001b[1m55/55\u001b[0m \u001b[32m━━━━━━━━━━━━━━━━━━━━\u001b[0m\u001b[37m\u001b[0m \u001b[1m0s\u001b[0m 5ms/step - loss: 0.3630 - mae: 0.4606 - val_loss: 0.0250 - val_mae: 0.1284\n",
            "Epoch 3/50\n",
            "\u001b[1m55/55\u001b[0m \u001b[32m━━━━━━━━━━━━━━━━━━━━\u001b[0m\u001b[37m\u001b[0m \u001b[1m0s\u001b[0m 5ms/step - loss: 0.2029 - mae: 0.3433 - val_loss: 0.0402 - val_mae: 0.1644\n",
            "Epoch 4/50\n",
            "\u001b[1m55/55\u001b[0m \u001b[32m━━━━━━━━━━━━━━━━━━━━\u001b[0m\u001b[37m\u001b[0m \u001b[1m0s\u001b[0m 5ms/step - loss: 0.1413 - mae: 0.2855 - val_loss: 0.0182 - val_mae: 0.1101\n",
            "Epoch 5/50\n",
            "\u001b[1m55/55\u001b[0m \u001b[32m━━━━━━━━━━━━━━━━━━━━\u001b[0m\u001b[37m\u001b[0m \u001b[1m0s\u001b[0m 6ms/step - loss: 0.0962 - mae: 0.2396 - val_loss: 0.0114 - val_mae: 0.0862\n",
            "Epoch 6/50\n",
            "\u001b[1m55/55\u001b[0m \u001b[32m━━━━━━━━━━━━━━━━━━━━\u001b[0m\u001b[37m\u001b[0m \u001b[1m1s\u001b[0m 5ms/step - loss: 0.0750 - mae: 0.2129 - val_loss: 0.0158 - val_mae: 0.1015\n",
            "Epoch 7/50\n",
            "\u001b[1m55/55\u001b[0m \u001b[32m━━━━━━━━━━━━━━━━━━━━\u001b[0m\u001b[37m\u001b[0m \u001b[1m0s\u001b[0m 5ms/step - loss: 0.0575 - mae: 0.1889 - val_loss: 0.0107 - val_mae: 0.0822\n",
            "Epoch 8/50\n",
            "\u001b[1m55/55\u001b[0m \u001b[32m━━━━━━━━━━━━━━━━━━━━\u001b[0m\u001b[37m\u001b[0m \u001b[1m0s\u001b[0m 5ms/step - loss: 0.0575 - mae: 0.1855 - val_loss: 0.0125 - val_mae: 0.0894\n",
            "Epoch 9/50\n",
            "\u001b[1m55/55\u001b[0m \u001b[32m━━━━━━━━━━━━━━━━━━━━\u001b[0m\u001b[37m\u001b[0m \u001b[1m0s\u001b[0m 5ms/step - loss: 0.0490 - mae: 0.1707 - val_loss: 0.0085 - val_mae: 0.0700\n",
            "Epoch 10/50\n",
            "\u001b[1m55/55\u001b[0m \u001b[32m━━━━━━━━━━━━━━━━━━━━\u001b[0m\u001b[37m\u001b[0m \u001b[1m0s\u001b[0m 5ms/step - loss: 0.0462 - mae: 0.1678 - val_loss: 0.0122 - val_mae: 0.0857\n",
            "Epoch 11/50\n",
            "\u001b[1m55/55\u001b[0m \u001b[32m━━━━━━━━━━━━━━━━━━━━\u001b[0m\u001b[37m\u001b[0m \u001b[1m0s\u001b[0m 5ms/step - loss: 0.0459 - mae: 0.1676 - val_loss: 0.0070 - val_mae: 0.0676\n",
            "Epoch 12/50\n",
            "\u001b[1m55/55\u001b[0m \u001b[32m━━━━━━━━━━━━━━━━━━━━\u001b[0m\u001b[37m\u001b[0m \u001b[1m0s\u001b[0m 5ms/step - loss: 0.0418 - mae: 0.1585 - val_loss: 0.0071 - val_mae: 0.0657\n",
            "Epoch 13/50\n",
            "\u001b[1m55/55\u001b[0m \u001b[32m━━━━━━━━━━━━━━━━━━━━\u001b[0m\u001b[37m\u001b[0m \u001b[1m0s\u001b[0m 6ms/step - loss: 0.0335 - mae: 0.1426 - val_loss: 0.0063 - val_mae: 0.0625\n",
            "Epoch 14/50\n",
            "\u001b[1m55/55\u001b[0m \u001b[32m━━━━━━━━━━━━━━━━━━━━\u001b[0m\u001b[37m\u001b[0m \u001b[1m0s\u001b[0m 6ms/step - loss: 0.0320 - mae: 0.1410 - val_loss: 0.0061 - val_mae: 0.0583\n",
            "Epoch 15/50\n",
            "\u001b[1m55/55\u001b[0m \u001b[32m━━━━━━━━━━━━━━━━━━━━\u001b[0m\u001b[37m\u001b[0m \u001b[1m0s\u001b[0m 5ms/step - loss: 0.0311 - mae: 0.1382 - val_loss: 0.0058 - val_mae: 0.0595\n",
            "Epoch 16/50\n",
            "\u001b[1m55/55\u001b[0m \u001b[32m━━━━━━━━━━━━━━━━━━━━\u001b[0m\u001b[37m\u001b[0m \u001b[1m0s\u001b[0m 5ms/step - loss: 0.0299 - mae: 0.1385 - val_loss: 0.0061 - val_mae: 0.0596\n",
            "Epoch 17/50\n",
            "\u001b[1m55/55\u001b[0m \u001b[32m━━━━━━━━━━━━━━━━━━━━\u001b[0m\u001b[37m\u001b[0m \u001b[1m0s\u001b[0m 5ms/step - loss: 0.0274 - mae: 0.1309 - val_loss: 0.0089 - val_mae: 0.0746\n",
            "Epoch 18/50\n",
            "\u001b[1m55/55\u001b[0m \u001b[32m━━━━━━━━━━━━━━━━━━━━\u001b[0m\u001b[37m\u001b[0m \u001b[1m1s\u001b[0m 5ms/step - loss: 0.0276 - mae: 0.1316 - val_loss: 0.0057 - val_mae: 0.0571\n",
            "Epoch 19/50\n",
            "\u001b[1m55/55\u001b[0m \u001b[32m━━━━━━━━━━━━━━━━━━━━\u001b[0m\u001b[37m\u001b[0m \u001b[1m0s\u001b[0m 5ms/step - loss: 0.0257 - mae: 0.1275 - val_loss: 0.0058 - val_mae: 0.0568\n",
            "Epoch 20/50\n",
            "\u001b[1m55/55\u001b[0m \u001b[32m━━━━━━━━━━━━━━━━━━━━\u001b[0m\u001b[37m\u001b[0m \u001b[1m0s\u001b[0m 6ms/step - loss: 0.0235 - mae: 0.1201 - val_loss: 0.0063 - val_mae: 0.0616\n",
            "Epoch 21/50\n",
            "\u001b[1m55/55\u001b[0m \u001b[32m━━━━━━━━━━━━━━━━━━━━\u001b[0m\u001b[37m\u001b[0m \u001b[1m0s\u001b[0m 5ms/step - loss: 0.0215 - mae: 0.1172 - val_loss: 0.0081 - val_mae: 0.0730\n",
            "Epoch 22/50\n",
            "\u001b[1m55/55\u001b[0m \u001b[32m━━━━━━━━━━━━━━━━━━━━\u001b[0m\u001b[37m\u001b[0m \u001b[1m0s\u001b[0m 6ms/step - loss: 0.0234 - mae: 0.1213 - val_loss: 0.0048 - val_mae: 0.0540\n",
            "Epoch 23/50\n",
            "\u001b[1m55/55\u001b[0m \u001b[32m━━━━━━━━━━━━━━━━━━━━\u001b[0m\u001b[37m\u001b[0m \u001b[1m1s\u001b[0m 5ms/step - loss: 0.0234 - mae: 0.1196 - val_loss: 0.0054 - val_mae: 0.0570\n",
            "Epoch 24/50\n",
            "\u001b[1m55/55\u001b[0m \u001b[32m━━━━━━━━━━━━━━━━━━━━\u001b[0m\u001b[37m\u001b[0m \u001b[1m0s\u001b[0m 5ms/step - loss: 0.0205 - mae: 0.1124 - val_loss: 0.0087 - val_mae: 0.0737\n",
            "Epoch 25/50\n",
            "\u001b[1m55/55\u001b[0m \u001b[32m━━━━━━━━━━━━━━━━━━━━\u001b[0m\u001b[37m\u001b[0m \u001b[1m1s\u001b[0m 8ms/step - loss: 0.0208 - mae: 0.1140 - val_loss: 0.0063 - val_mae: 0.0612\n",
            "Epoch 26/50\n",
            "\u001b[1m55/55\u001b[0m \u001b[32m━━━━━━━━━━━━━━━━━━━━\u001b[0m\u001b[37m\u001b[0m \u001b[1m0s\u001b[0m 7ms/step - loss: 0.0250 - mae: 0.1245 - val_loss: 0.0069 - val_mae: 0.0675\n",
            "Epoch 27/50\n",
            "\u001b[1m55/55\u001b[0m \u001b[32m━━━━━━━━━━━━━━━━━━━━\u001b[0m\u001b[37m\u001b[0m \u001b[1m0s\u001b[0m 7ms/step - loss: 0.0222 - mae: 0.1183 - val_loss: 0.0085 - val_mae: 0.0769\n",
            "Epoch 28/50\n",
            "\u001b[1m55/55\u001b[0m \u001b[32m━━━━━━━━━━━━━━━━━━━━\u001b[0m\u001b[37m\u001b[0m \u001b[1m0s\u001b[0m 8ms/step - loss: 0.0209 - mae: 0.1132 - val_loss: 0.0049 - val_mae: 0.0550\n",
            "Epoch 29/50\n",
            "\u001b[1m55/55\u001b[0m \u001b[32m━━━━━━━━━━━━━━━━━━━━\u001b[0m\u001b[37m\u001b[0m \u001b[1m1s\u001b[0m 9ms/step - loss: 0.0225 - mae: 0.1209 - val_loss: 0.0053 - val_mae: 0.0565\n",
            "Epoch 30/50\n",
            "\u001b[1m55/55\u001b[0m \u001b[32m━━━━━━━━━━━━━━━━━━━━\u001b[0m\u001b[37m\u001b[0m \u001b[1m0s\u001b[0m 5ms/step - loss: 0.0179 - mae: 0.1053 - val_loss: 0.0357 - val_mae: 0.1728\n",
            "Epoch 31/50\n",
            "\u001b[1m55/55\u001b[0m \u001b[32m━━━━━━━━━━━━━━━━━━━━\u001b[0m\u001b[37m\u001b[0m \u001b[1m0s\u001b[0m 5ms/step - loss: 0.0227 - mae: 0.1202 - val_loss: 0.0061 - val_mae: 0.0605\n",
            "Epoch 32/50\n",
            "\u001b[1m55/55\u001b[0m \u001b[32m━━━━━━━━━━━━━━━━━━━━\u001b[0m\u001b[37m\u001b[0m \u001b[1m0s\u001b[0m 5ms/step - loss: 0.0170 - mae: 0.1034 - val_loss: 0.0046 - val_mae: 0.0516\n",
            "Epoch 33/50\n",
            "\u001b[1m55/55\u001b[0m \u001b[32m━━━━━━━━━━━━━━━━━━━━\u001b[0m\u001b[37m\u001b[0m \u001b[1m0s\u001b[0m 5ms/step - loss: 0.0173 - mae: 0.1037 - val_loss: 0.0046 - val_mae: 0.0508\n",
            "Epoch 34/50\n",
            "\u001b[1m55/55\u001b[0m \u001b[32m━━━━━━━━━━━━━━━━━━━━\u001b[0m\u001b[37m\u001b[0m \u001b[1m0s\u001b[0m 5ms/step - loss: 0.0185 - mae: 0.1061 - val_loss: 0.0068 - val_mae: 0.0643\n",
            "Epoch 35/50\n",
            "\u001b[1m55/55\u001b[0m \u001b[32m━━━━━━━━━━━━━━━━━━━━\u001b[0m\u001b[37m\u001b[0m \u001b[1m0s\u001b[0m 5ms/step - loss: 0.0147 - mae: 0.0957 - val_loss: 0.0053 - val_mae: 0.0558\n",
            "Epoch 36/50\n",
            "\u001b[1m55/55\u001b[0m \u001b[32m━━━━━━━━━━━━━━━━━━━━\u001b[0m\u001b[37m\u001b[0m \u001b[1m0s\u001b[0m 6ms/step - loss: 0.0156 - mae: 0.0991 - val_loss: 0.0045 - val_mae: 0.0505\n",
            "Epoch 37/50\n",
            "\u001b[1m55/55\u001b[0m \u001b[32m━━━━━━━━━━━━━━━━━━━━\u001b[0m\u001b[37m\u001b[0m \u001b[1m0s\u001b[0m 5ms/step - loss: 0.0138 - mae: 0.0915 - val_loss: 0.0050 - val_mae: 0.0549\n",
            "Epoch 38/50\n",
            "\u001b[1m55/55\u001b[0m \u001b[32m━━━━━━━━━━━━━━━━━━━━\u001b[0m\u001b[37m\u001b[0m \u001b[1m0s\u001b[0m 5ms/step - loss: 0.0162 - mae: 0.1011 - val_loss: 0.0050 - val_mae: 0.0531\n",
            "Epoch 39/50\n",
            "\u001b[1m55/55\u001b[0m \u001b[32m━━━━━━━━━━━━━━━━━━━━\u001b[0m\u001b[37m\u001b[0m \u001b[1m0s\u001b[0m 5ms/step - loss: 0.0140 - mae: 0.0928 - val_loss: 0.0046 - val_mae: 0.0526\n",
            "Epoch 40/50\n",
            "\u001b[1m55/55\u001b[0m \u001b[32m━━━━━━━━━━━━━━━━━━━━\u001b[0m\u001b[37m\u001b[0m \u001b[1m0s\u001b[0m 5ms/step - loss: 0.0145 - mae: 0.0950 - val_loss: 0.0045 - val_mae: 0.0525\n",
            "Epoch 41/50\n",
            "\u001b[1m55/55\u001b[0m \u001b[32m━━━━━━━━━━━━━━━━━━━━\u001b[0m\u001b[37m\u001b[0m \u001b[1m0s\u001b[0m 5ms/step - loss: 0.0143 - mae: 0.0941 - val_loss: 0.0056 - val_mae: 0.0573\n",
            "Epoch 42/50\n",
            "\u001b[1m55/55\u001b[0m \u001b[32m━━━━━━━━━━━━━━━━━━━━\u001b[0m\u001b[37m\u001b[0m \u001b[1m0s\u001b[0m 6ms/step - loss: 0.0158 - mae: 0.0981 - val_loss: 0.0060 - val_mae: 0.0614\n",
            "Epoch 43/50\n",
            "\u001b[1m55/55\u001b[0m \u001b[32m━━━━━━━━━━━━━━━━━━━━\u001b[0m\u001b[37m\u001b[0m \u001b[1m0s\u001b[0m 5ms/step - loss: 0.0171 - mae: 0.1038 - val_loss: 0.0053 - val_mae: 0.0583\n",
            "Epoch 44/50\n",
            "\u001b[1m55/55\u001b[0m \u001b[32m━━━━━━━━━━━━━━━━━━━━\u001b[0m\u001b[37m\u001b[0m \u001b[1m0s\u001b[0m 5ms/step - loss: 0.0134 - mae: 0.0909 - val_loss: 0.0044 - val_mae: 0.0507\n",
            "Epoch 45/50\n",
            "\u001b[1m55/55\u001b[0m \u001b[32m━━━━━━━━━━━━━━━━━━━━\u001b[0m\u001b[37m\u001b[0m \u001b[1m1s\u001b[0m 5ms/step - loss: 0.0137 - mae: 0.0908 - val_loss: 0.0083 - val_mae: 0.0748\n",
            "Epoch 46/50\n",
            "\u001b[1m55/55\u001b[0m \u001b[32m━━━━━━━━━━━━━━━━━━━━\u001b[0m\u001b[37m\u001b[0m \u001b[1m0s\u001b[0m 5ms/step - loss: 0.0153 - mae: 0.0985 - val_loss: 0.0139 - val_mae: 0.0991\n",
            "Epoch 47/50\n",
            "\u001b[1m55/55\u001b[0m \u001b[32m━━━━━━━━━━━━━━━━━━━━\u001b[0m\u001b[37m\u001b[0m \u001b[1m0s\u001b[0m 5ms/step - loss: 0.0153 - mae: 0.0972 - val_loss: 0.0044 - val_mae: 0.0508\n",
            "Epoch 48/50\n",
            "\u001b[1m55/55\u001b[0m \u001b[32m━━━━━━━━━━━━━━━━━━━━\u001b[0m\u001b[37m\u001b[0m \u001b[1m1s\u001b[0m 5ms/step - loss: 0.0127 - mae: 0.0890 - val_loss: 0.0052 - val_mae: 0.0549\n",
            "Epoch 49/50\n",
            "\u001b[1m55/55\u001b[0m \u001b[32m━━━━━━━━━━━━━━━━━━━━\u001b[0m\u001b[37m\u001b[0m \u001b[1m1s\u001b[0m 5ms/step - loss: 0.0129 - mae: 0.0891 - val_loss: 0.0048 - val_mae: 0.0540\n",
            "Epoch 50/50\n",
            "\u001b[1m55/55\u001b[0m \u001b[32m━━━━━━━━━━━━━━━━━━━━\u001b[0m\u001b[37m\u001b[0m \u001b[1m0s\u001b[0m 5ms/step - loss: 0.0109 - mae: 0.0818 - val_loss: 0.0051 - val_mae: 0.0570\n",
            "Restoring model weights from the end of the best epoch: 47.\n"
          ]
        }
      ]
    },
    {
      "cell_type": "code",
      "source": [],
      "metadata": {
        "id": "c7bHv830sXDO"
      },
      "execution_count": null,
      "outputs": []
    },
    {
      "cell_type": "markdown",
      "source": [
        "# Model evaluation"
      ],
      "metadata": {
        "id": "UrP6_7jBsjOI"
      }
    },
    {
      "cell_type": "code",
      "source": [
        "# Evaluate final model\n",
        "y_pred = final_model.predict(X_test_preprocessed)\n",
        "mse = mean_squared_error(y_test, y_pred)\n",
        "rmse = np.sqrt(mse)\n",
        "r2 = r2_score(y_test, y_pred)\n",
        "\n",
        "print(f\"\\nFinal model performance on test set:\")\n",
        "print(f\"Mean Squared Error: {mse:.4f}\")\n",
        "print(f\"Root Mean Squared Error: {rmse:.4f}\")\n",
        "print(f\"R-squared: {r2:.4f}\")"
      ],
      "metadata": {
        "colab": {
          "base_uri": "https://localhost:8080/"
        },
        "id": "5ElOLm2KsmhM",
        "outputId": "b1c9c463-68a1-45e7-83d6-bdd0c371f9ed"
      },
      "execution_count": null,
      "outputs": [
        {
          "output_type": "stream",
          "name": "stdout",
          "text": [
            "\u001b[1m35/35\u001b[0m \u001b[32m━━━━━━━━━━━━━━━━━━━━\u001b[0m\u001b[37m\u001b[0m \u001b[1m0s\u001b[0m 6ms/step\n",
            "\n",
            "Final model performance on test set:\n",
            "Mean Squared Error: 0.0047\n",
            "Root Mean Squared Error: 0.0685\n",
            "R-squared: 0.9231\n"
          ]
        }
      ]
    },
    {
      "cell_type": "code",
      "source": [
        "# Plot predictions vs actual values\n",
        "plt.figure(figsize=(10, 6))\n",
        "plt.scatter(y_test, y_pred, alpha=0.5)\n",
        "plt.plot([y_test.min(), y_test.max()], [y_test.min(), y_test.max()], 'r--')\n",
        "plt.xlabel('Actual Overall Rating')\n",
        "plt.ylabel('Predicted Overall Rating')\n",
        "plt.title('Actual vs Predicted Overall Ratings')\n",
        "plt.tight_layout()\n",
        "plt.savefig('predictions_vs_actual.png')\n",
        "plt.show()"
      ],
      "metadata": {
        "colab": {
          "base_uri": "https://localhost:8080/",
          "height": 607
        },
        "id": "TFBLtsOjspR7",
        "outputId": "2a71cf7f-713a-4ea4-c4bb-74f08dd232ef"
      },
      "execution_count": null,
      "outputs": [
        {
          "output_type": "display_data",
          "data": {
            "text/plain": [
              "<Figure size 1000x600 with 1 Axes>"
            ],
            "image/png": "[encoded data removed]"
          },
          "metadata": {}
        }
      ]
    },
    {
      "cell_type": "code",
      "source": [
        "# Plot training history\n",
        "plt.figure(figsize=(12, 4))\n",
        "plt.subplot(1, 2, 1)\n",
        "plt.plot(history.history['loss'], label='Training Loss')\n",
        "plt.plot(history.history['val_loss'], label='Validation Loss')\n",
        "plt.xlabel('Epochs')\n",
        "plt.ylabel('Loss')\n",
        "plt.legend()\n",
        "plt.title('Training and Validation Loss')\n",
        "\n",
        "plt.subplot(1, 2, 2)\n",
        "plt.plot(history.history['mae'], label='Training MAE')\n",
        "plt.plot(history.history['val_mae'], label='Validation MAE')\n",
        "plt.xlabel('Epochs')\n",
        "plt.ylabel('Mean Absolute Error')\n",
        "plt.legend()\n",
        "plt.title('Training and Validation MAE')\n",
        "plt.tight_layout()\n",
        "plt.savefig('training_history.png')\n",
        "plt.show()"
      ],
      "metadata": {
        "colab": {
          "base_uri": "https://localhost:8080/",
          "height": 407
        },
        "id": "8t0gwGVMsrgl",
        "outputId": "6621aedc-e82d-48a2-cc7b-bb03bfb49eda"
      },
      "execution_count": null,
      "outputs": [
        {
          "output_type": "display_data",
          "data": {
            "text/plain": [
              "<Figure size 1200x400 with 2 Axes>"
            ],
            "image/png": "[encoded data removed]"
          },
          "metadata": {}
        }
      ]
    },
    {
      "cell_type": "code",
      "source": [
        "# Feature importance analysis\n",
        "feature_importance = pd.DataFrame({\n",
        "    'Feature': X.columns,\n",
        "    'Score': feature_scores\n",
        "})\n",
        "feature_importance = feature_importance.sort_values(by='Score', ascending=False)"
      ],
      "metadata": {
        "id": "oglc8m3xswne"
      },
      "execution_count": null,
      "outputs": []
    },
    {
      "cell_type": "code",
      "source": [
        "# Plot feature importance\n",
        "plt.figure(figsize=(12, 8))\n",
        "sns.barplot(x='Score', y='Feature', data=feature_importance.head(15))\n",
        "plt.title('Top 15 Most Important Features')\n",
        "plt.tight_layout()\n",
        "plt.savefig('feature_importance.png')\n",
        "plt.show()"
      ],
      "metadata": {
        "colab": {
          "base_uri": "https://localhost:8080/",
          "height": 807
        },
        "id": "6ZvF20rvs1Kj",
        "outputId": "6e7aa3db-9975-45a9-d4e3-f97c07e44ba8"
      },
      "execution_count": null,
      "outputs": [
        {
          "output_type": "display_data",
          "data": {
            "text/plain": [
              "<Figure size 1200x800 with 1 Axes>"
            ],
            "image/png": "[encoded data removed]"
          },
          "metadata": {}
        }
      ]
    },
    {
      "cell_type": "code",
      "source": [
        "# Plot actual vs predicted for top 50 test samples\n",
        "plt.figure(figsize=(14, 6))\n",
        "n_samples = min(50, len(y_test))\n",
        "indices = np.arange(n_samples)\n",
        "plt.bar(indices, y_test.iloc[:n_samples], width=0.4, label='Actual', alpha=0.7)\n",
        "plt.bar(indices + 0.4, y_pred.flatten()[:n_samples], width=0.4, label='Predicted', alpha=0.7)\n",
        "plt.xlabel('Sample Index')\n",
        "plt.ylabel('Overall Rating')\n",
        "plt.title('Actual vs Predicted Ratings for Test Samples')\n",
        "plt.legend()\n",
        "plt.tight_layout()\n",
        "plt.savefig('actual_vs_predicted_samples.png')\n",
        "plt.show()"
      ],
      "metadata": {
        "colab": {
          "base_uri": "https://localhost:8080/",
          "height": 607
        },
        "id": "-rb3tRu4s2lV",
        "outputId": "5a12bbdf-f303-493f-ab2c-8c40a3471a93"
      },
      "execution_count": null,
      "outputs": [
        {
          "output_type": "display_data",
          "data": {
            "text/plain": [
              "<Figure size 1400x600 with 1 Axes>"
            ],
            "image/png": "[encoded data removed]"
          },
          "metadata": {}
        }
      ]
    },
    {
      "cell_type": "code",
      "source": [
        "# Save the preprocessor and model for future use\n",
        "import joblib\n",
        "from tensorflow.keras.models import save_model"
      ],
      "metadata": {
        "id": "3CgtuiuKs5xk"
      },
      "execution_count": null,
      "outputs": []
    },
    {
      "cell_type": "code",
      "source": [
        "# Save preprocessor\n",
        "joblib.dump(preprocessor, 'rating_preprocessor.pkl')"
      ],
      "metadata": {
        "colab": {
          "base_uri": "https://localhost:8080/"
        },
        "id": "z9uRGWQcs_rf",
        "outputId": "bbc453ce-c830-4455-cb88-72ae94ca88cc"
      },
      "execution_count": null,
      "outputs": [
        {
          "output_type": "execute_result",
          "data": {
            "text/plain": [
              "['rating_preprocessor.pkl']"
            ]
          },
          "metadata": {},
          "execution_count": 114
        }
      ]
    },
    {
      "cell_type": "code",
      "source": [
        "# Save keras model\n",
        "save_model(final_model, 'rating_model.h5')\n",
        "\n",
        "print(\"\\nPreprocessor and model saved successfully!\")"
      ],
      "metadata": {
        "colab": {
          "base_uri": "https://localhost:8080/"
        },
        "id": "Iqp2HRlrtBZo",
        "outputId": "49d00697-bab5-41f9-9ba7-79cc400bafaf"
      },
      "execution_count": null,
      "outputs": [
        {
          "output_type": "stream",
          "name": "stderr",
          "text": [
            "WARNING:absl:You are saving your model as an HDF5 file via `model.save()` or `keras.saving.save_model(model)`. This file format is considered legacy. We recommend using instead the native Keras format, e.g. `model.save('my_model.keras')` or `keras.saving.save_model(model, 'my_model.keras')`. \n"
          ]
        },
        {
          "output_type": "stream",
          "name": "stdout",
          "text": [
            "\n",
            "Preprocessor and model saved successfully!\n"
          ]
        }
      ]
    },
    {
      "cell_type": "code",
      "source": [],
      "metadata": {
        "id": "d3PzegbntDO4"
      },
      "execution_count": null,
      "outputs": []
    }
  ]
}